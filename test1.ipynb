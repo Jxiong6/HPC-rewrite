{
 "cells": [
  {
   "cell_type": "code",
   "execution_count": 72,
   "metadata": {},
   "outputs": [],
   "source": [
    "%reload_ext cython_openmp"
   ]
  },
  {
   "cell_type": "markdown",
   "metadata": {},
   "source": [
    "111111111111111111111\n"
   ]
  },
  {
   "cell_type": "code",
   "execution_count": 4,
   "metadata": {},
   "outputs": [
    {
     "name": "stdout",
     "output_type": "stream",
     "text": [
      "🔧 Cython + OpenMP 并行编译器 v2 (magic: %cython_openmp)\n",
      "📌 目标函数名: parallel_ok_3d_loop\n",
      "🧩 临时构建目录: C:\\Users\\xiong\\AppData\\Local\\Temp\\cython_omp_2j69_5ir\n",
      "📐 prange 调度: static\n",
      "\n",
      "📄 生成的 Cython 并行代码如下：\n",
      "\n",
      "\n",
      "    # cython: boundscheck=False, wraparound=False, initializedcheck=False, nonecheck=False\n",
      "    # cython: cdivision=True, infer_types=True\n",
      "    from cython.parallel cimport prange, parallel\n",
      "    from openmp cimport omp_get_max_threads, omp_get_thread_num, omp_set_num_threads\n",
      "    from libc.math cimport sqrt, pow, fabs as c_fabs, exp as c_exp, log as c_log, sin as c_sin, cos as c_cos, tanh as c_tanh\n",
      "    cimport cython\n",
      "    import numpy as np\n",
      "    cimport numpy as np\n",
      "\n",
      "\n",
      "    def parallel_ok_3d_loop(int n, int num_threads=0):\n",
      "        cdef Py_ssize_t i, j, k, t, tid\n",
      "        cdef double result = 0.0\n",
      "        cdef int PAD = 16\n",
      "    \n",
      "        cdef int T = omp_get_max_threads()\n",
      "        cdef np.ndarray[np.double_t, ndim=1] _locals = np.zeros(T * PAD, dtype=np.float64)\n",
      "        cdef double[:] locals_mv = _locals\n",
      "        with nogil, parallel():\n",
      "            tid = omp_get_thread_num()\n",
      "            for i in prange(n, schedule=\"static\"):\n",
      "                for j in range(n):\n",
      "                    for k in range(n):\n",
      "                        locals_mv[tid * PAD] += (((i + j) + k) * 1e-06)\n",
      "        for t in range(T):\n",
      "            result += locals_mv[t * PAD]\n",
      "        return result\n",
      "\n",
      "\n",
      "🔧 正在编译…（平台: win32, Python: 3.10.16）\n",
      "⚙️  编译成功。\n",
      "\n",
      "✅ 函数 `parallel_ok_3d_loop` 已并行加速并可直接使用！\n",
      "📌 用法示例: result = parallel_ok_3d_loop(1000000, num_threads=4)\n",
      "📦 扩展模块位于: c:\\Users\\xiong\\Desktop\\9.4brandnew_ast+openmp+cython\\.cython_openmp_cache\\parallel_ok_3d_loop_b56fe2b4.cp310-win_amd64.pyd\n"
     ]
    }
   ],
   "source": [
    "%%cython_openmp -n parallel_ok_3d_loop\n",
    "import numpy as np\n",
    "\n",
    "def parallel_ok_3d_loop(n=50):\n",
    "    result = 0.0\n",
    "    for i in range(n):\n",
    "        for j in range(n):\n",
    "            for k in range(n):\n",
    "                result += (i + j + k) * 0.000001\n",
    "    return result"
   ]
  },
  {
   "cell_type": "code",
   "execution_count": 5,
   "metadata": {},
   "outputs": [],
   "source": [
    "import numpy as np\n",
    "\n",
    "def baseline_3d_loop(n=50):\n",
    "    result = 0.0\n",
    "    for i in range(n):\n",
    "        for j in range(n):\n",
    "            for k in range(n):\n",
    "                result += (i + j + k) * 0.000001\n",
    "    return result"
   ]
  },
  {
   "cell_type": "code",
   "execution_count": 6,
   "metadata": {},
   "outputs": [
    {
     "name": "stdout",
     "output_type": "stream",
     "text": [
      "true\n"
     ]
    }
   ],
   "source": [
    "n = 100\n",
    "ref = baseline_3d_loop(n)\n",
    "opt = parallel_ok_3d_loop(n)\n",
    "\n",
    "# 仅输出是否一致\n",
    "print(\"true\" if abs(ref - opt) < 1e-10 else \"false\")"
   ]
  },
  {
   "cell_type": "code",
   "execution_count": 7,
   "metadata": {},
   "outputs": [
    {
     "name": "stdout",
     "output_type": "stream",
     "text": [
      "Baseline 平均时间: 0.590217s\n",
      "Optimized 平均时间: 0.001807s\n",
      "加速比: 326.60×\n"
     ]
    }
   ],
   "source": [
    "import timeit\n",
    "\n",
    "n = 200\n",
    "repeats = 5\n",
    "\n",
    "t_base = timeit.timeit(lambda: baseline_3d_loop(n), number=repeats) / repeats\n",
    "t_opt  = timeit.timeit(lambda: parallel_ok_3d_loop(n,num_threads=4), number=repeats)  / repeats\n",
    "speedup = t_base / t_opt\n",
    "\n",
    "print(f\"Baseline 平均时间: {t_base:.6f}s\")\n",
    "print(f\"Optimized 平均时间: {t_opt:.6f}s\")\n",
    "print(f\"加速比: {speedup:.2f}×\")"
   ]
  },
  {
   "cell_type": "markdown",
   "metadata": {},
   "source": [
    "2222222222222222222"
   ]
  },
  {
   "cell_type": "code",
   "execution_count": 8,
   "metadata": {},
   "outputs": [
    {
     "name": "stdout",
     "output_type": "stream",
     "text": [
      "🔧 Cython + OpenMP 并行编译器 v2 (magic: %cython_openmp)\n",
      "📌 目标函数名: parallel_write_array\n",
      "🧩 临时构建目录: C:\\Users\\xiong\\AppData\\Local\\Temp\\cython_omp_kv3nafkq\n",
      "📐 prange 调度: static\n",
      "\n",
      "📄 生成的 Cython 并行代码如下：\n",
      "\n",
      "\n",
      "    # cython: boundscheck=False, wraparound=False, initializedcheck=False, nonecheck=False\n",
      "    # cython: cdivision=True, infer_types=True\n",
      "    from cython.parallel cimport prange, parallel\n",
      "    from openmp cimport omp_get_max_threads, omp_get_thread_num, omp_set_num_threads\n",
      "    from libc.math cimport sqrt, pow, fabs as c_fabs, exp as c_exp, log as c_log, sin as c_sin, cos as c_cos, tanh as c_tanh\n",
      "    cimport cython\n",
      "    import numpy as np\n",
      "    cimport numpy as np\n",
      "\n",
      "\n",
      "    def parallel_write_array(int n, int num_threads=0):\n",
      "        cdef Py_ssize_t i, j\n",
      "        cdef np.ndarray[np.double_t, ndim=2] arr = np.empty((n, n), dtype=np.float64)\n",
      "        cdef double[:, ::1] arr_mv = arr\n",
      "        if num_threads > 0:\n",
      "            omp_set_num_threads(num_threads)\n",
      "        with nogil, parallel():\n",
      "            for i in prange(n, schedule=\"static\"):\n",
      "                for j in range(n):\n",
      "                    arr_mv[i, j] = (i + j)\n",
      "        return arr\n",
      "\n",
      "\n",
      "🔧 正在编译…（平台: win32, Python: 3.10.16）\n",
      "⚙️  编译成功。\n",
      "\n",
      "✅ 函数 `parallel_write_array` 已并行加速并可直接使用！\n",
      "📌 用法示例: result = parallel_write_array(1000000, num_threads=4)\n",
      "📦 扩展模块位于: c:\\Users\\xiong\\Desktop\\9.4brandnew_ast+openmp+cython\\.cython_openmp_cache\\parallel_write_array_d3231f99.cp310-win_amd64.pyd\n"
     ]
    }
   ],
   "source": [
    "%%cython_openmp -n parallel_write_array\n",
    "import numpy as np\n",
    "def parallel_write_array(n=100):\n",
    "    arr = np.zeros((n, n))\n",
    "    for i in range(n):\n",
    "        for j in range(n):\n",
    "            arr[i][j] = i + j\n",
    "    return arr"
   ]
  },
  {
   "cell_type": "code",
   "execution_count": 9,
   "metadata": {},
   "outputs": [],
   "source": [
    "import numpy as np\n",
    "\n",
    "def baseline_write_array(n=100):\n",
    "    arr = np.zeros((n, n))\n",
    "    for i in range(n):\n",
    "        for j in range(n):\n",
    "            arr[i][j] = i + j\n",
    "    return arr"
   ]
  },
  {
   "cell_type": "code",
   "execution_count": 10,
   "metadata": {},
   "outputs": [
    {
     "name": "stdout",
     "output_type": "stream",
     "text": [
      "[[  0.   1.   2. ...  97.  98.  99.]\n",
      " [  1.   2.   3. ...  98.  99. 100.]\n",
      " [  2.   3.   4. ...  99. 100. 101.]\n",
      " ...\n",
      " [ 97.  98.  99. ... 194. 195. 196.]\n",
      " [ 98.  99. 100. ... 195. 196. 197.]\n",
      " [ 99. 100. 101. ... 196. 197. 198.]]\n",
      "[[  0.   1.   2. ...  97.  98.  99.]\n",
      " [  1.   2.   3. ...  98.  99. 100.]\n",
      " [  2.   3.   4. ...  99. 100. 101.]\n",
      " ...\n",
      " [ 97.  98.  99. ... 194. 195. 196.]\n",
      " [ 98.  99. 100. ... 195. 196. 197.]\n",
      " [ 99. 100. 101. ... 196. 197. 198.]]\n",
      "true\n"
     ]
    }
   ],
   "source": [
    "n = 100\n",
    "ref = baseline_write_array(n)\n",
    "opt = parallel_write_array(n)\n",
    "print(ref)\n",
    "print(opt)\n",
    "\n",
    "# 仅输出是否一致\n",
    "print(\"true\" if np.allclose(ref, opt) else \"false\")"
   ]
  },
  {
   "cell_type": "code",
   "execution_count": 11,
   "metadata": {},
   "outputs": [
    {
     "name": "stdout",
     "output_type": "stream",
     "text": [
      "Baseline 平均时间: 0.039842s\n",
      "Optimized 平均时间: 0.000405s\n",
      "加速比: 98.41×\n"
     ]
    }
   ],
   "source": [
    "import timeit\n",
    "\n",
    "\n",
    "n = 500\n",
    "repeats = 5\n",
    "\n",
    "t_base = timeit.timeit(lambda: baseline_write_array(n), number=repeats) / repeats\n",
    "t_opt  = timeit.timeit(lambda: parallel_write_array(n,num_threads=4), number=repeats)  / repeats\n",
    "speedup = t_base / t_opt\n",
    "\n",
    "print(f\"Baseline 平均时间: {t_base:.6f}s\")\n",
    "print(f\"Optimized 平均时间: {t_opt:.6f}s\")\n",
    "print(f\"加速比: {speedup:.2f}×\")"
   ]
  },
  {
   "cell_type": "markdown",
   "metadata": {},
   "source": [
    "3333333333333333333333333"
   ]
  },
  {
   "cell_type": "code",
   "execution_count": 12,
   "metadata": {},
   "outputs": [
    {
     "name": "stdout",
     "output_type": "stream",
     "text": [
      "🔧 Cython + OpenMP 并行编译器 v2 (magic: %cython_openmp)\n",
      "📌 目标函数名: compute_squares1\n",
      "🧩 临时构建目录: C:\\Users\\xiong\\AppData\\Local\\Temp\\cython_omp_zixdrmho\n",
      "📐 prange 调度: static\n",
      "\n",
      "📄 生成的 Cython 并行代码如下：\n",
      "\n",
      "\n",
      "    # cython: boundscheck=False, wraparound=False, initializedcheck=False, nonecheck=False\n",
      "    # cython: cdivision=True, infer_types=True\n",
      "    from cython.parallel cimport prange, parallel\n",
      "    from openmp cimport omp_get_max_threads, omp_get_thread_num, omp_set_num_threads\n",
      "    from libc.math cimport sqrt, pow, fabs as c_fabs, exp as c_exp, log as c_log, sin as c_sin, cos as c_cos, tanh as c_tanh\n",
      "    cimport cython\n",
      "    import numpy as np\n",
      "    cimport numpy as np\n",
      "\n",
      "\n",
      "    def compute_squares1(np.ndarray[np.double_t, ndim=1] a, int num_threads=0):\n",
      "        cdef Py_ssize_t i, n\n",
      "        if a.dtype != np.float64 or not a.flags.c_contiguous:\n",
      "            raise ValueError(\"a must be float64 and C-contiguous\")\n",
      "\n",
      "        n = a.shape[0]\n",
      "        cdef np.ndarray[np.double_t, ndim=1] out = np.empty(n, dtype=np.float64)\n",
      "        cdef const double[:] a_mv = a\n",
      "        cdef double[:] out_mv = out\n",
      "    \n",
      "        if n < 50000 or num_threads == 1:\n",
      "            for i in range(n):\n",
      "                out_mv[i] = (a_mv[i] * a_mv[i])\n",
      "        else:\n",
      "            if num_threads > 0:\n",
      "                omp_set_num_threads(num_threads)\n",
      "            with nogil, parallel():\n",
      "                for i in prange(n, schedule=\"static\"):\n",
      "                    out_mv[i] = (a_mv[i] * a_mv[i])\n",
      "        return out\n",
      "\n",
      "\n",
      "🔧 正在编译…（平台: win32, Python: 3.10.16）\n",
      "⚙️  编译成功。\n",
      "\n",
      "✅ 函数 `compute_squares1` 已并行加速并可直接使用！\n",
      "📌 用法示例: result = compute_squares1(1000000, num_threads=4)\n",
      "📦 扩展模块位于: c:\\Users\\xiong\\Desktop\\9.4brandnew_ast+openmp+cython\\.cython_openmp_cache\\compute_squares1_c9c66aa5.cp310-win_amd64.pyd\n"
     ]
    }
   ],
   "source": [
    "%%cython_openmp -n compute_squares1\n",
    "def compute_squares1(a):\n",
    "    return [x * x for x in a]\n"
   ]
  },
  {
   "cell_type": "code",
   "execution_count": 13,
   "metadata": {},
   "outputs": [],
   "source": [
    "def compute_squares1_py(data):\n",
    "    return [x * x for x in data]"
   ]
  },
  {
   "cell_type": "code",
   "execution_count": 14,
   "metadata": {},
   "outputs": [
    {
     "name": "stdout",
     "output_type": "stream",
     "text": [
      "Python result: [1, 4, 9, 16, 25]\n",
      "Cython result: [ 1.  4.  9. 16. 25.]\n",
      "Equal? [ True  True  True  True  True]\n"
     ]
    }
   ],
   "source": [
    "data = [1, 2, 3, 4, 5]\n",
    "import numpy as np\n",
    "data_np = np.array(data, dtype=np.float64)\n",
    "\n",
    "# 调用并对比结果\n",
    "res_py = compute_squares1_py(data)\n",
    "res_cy = compute_squares1(data_np)\n",
    "\n",
    "print(\"Python result:\", res_py)\n",
    "print(\"Cython result:\", res_cy)\n",
    "print(\"Equal?\", res_py == res_cy)"
   ]
  },
  {
   "cell_type": "code",
   "execution_count": 15,
   "metadata": {},
   "outputs": [
    {
     "name": "stdout",
     "output_type": "stream",
     "text": [
      "Python baseline: 0.628 s\n",
      "Cython+OpenMP:  0.012 s\n",
      "加速比: 53.67×\n"
     ]
    }
   ],
   "source": [
    "import numpy as np, time\n",
    "\n",
    "# 输入规模：1千万元素（~80MB double数组）\n",
    "N = 10000000\n",
    "data_list = list(range(N))                # 纯 Python list\n",
    "data_np   = np.arange(N, dtype=np.float64)  # NumPy array\n",
    "\n",
    "# baseline (Python 列表推导)\n",
    "t0 = time.perf_counter()\n",
    "compute_squares1_py(data_list)\n",
    "t1 = time.perf_counter()\n",
    "t_baseline=t1- t0\n",
    "print(f\"Python baseline: {t1 - t0:.3f} s\")\n",
    "\n",
    "# 并行 Cython+OpenMP (8 线程)\n",
    "t0 = time.perf_counter()\n",
    "compute_squares1(data_np, num_threads=8)\n",
    "t1 = time.perf_counter()\n",
    "t_cython_omp=t1-t0\n",
    "print(f\"Cython+OpenMP:  {t1 - t0:.3f} s\")\n",
    "print(f\"加速比: {t_baseline / t_cython_omp:.2f}×\")\n",
    "\n",
    "\n"
   ]
  },
  {
   "cell_type": "markdown",
   "metadata": {},
   "source": [
    "444444444444444444"
   ]
  },
  {
   "cell_type": "code",
   "execution_count": 16,
   "metadata": {},
   "outputs": [
    {
     "name": "stdout",
     "output_type": "stream",
     "text": [
      "🔧 Cython + OpenMP 并行编译器 v2 (magic: %cython_openmp)\n",
      "📌 目标函数名: parallel_ok_3d_loop\n",
      "🧩 临时构建目录: C:\\Users\\xiong\\AppData\\Local\\Temp\\cython_omp_67l6ehzm\n",
      "📐 prange 调度: static\n",
      "\n",
      "📄 生成的 Cython 并行代码如下：\n",
      "\n",
      "\n",
      "    # cython: boundscheck=False, wraparound=False, initializedcheck=False, nonecheck=False\n",
      "    # cython: cdivision=True, infer_types=True\n",
      "    from cython.parallel cimport prange, parallel\n",
      "    from openmp cimport omp_get_max_threads, omp_get_thread_num, omp_set_num_threads\n",
      "    from libc.math cimport sqrt, pow, fabs as c_fabs, exp as c_exp, log as c_log, sin as c_sin, cos as c_cos, tanh as c_tanh\n",
      "    cimport cython\n",
      "    import numpy as np\n",
      "    cimport numpy as np\n",
      "\n",
      "\n",
      "    def parallel_ok_3d_loop(int n, int num_threads=0):\n",
      "        cdef Py_ssize_t i, j, k, t, tid\n",
      "        cdef double result = 0.0\n",
      "        cdef int PAD = 16\n",
      "    \n",
      "        cdef int T = omp_get_max_threads()\n",
      "        cdef np.ndarray[np.double_t, ndim=1] _locals = np.zeros(T * PAD, dtype=np.float64)\n",
      "        cdef double[:] locals_mv = _locals\n",
      "        with nogil, parallel():\n",
      "            tid = omp_get_thread_num()\n",
      "            for i in prange(n, schedule=\"static\"):\n",
      "                for j in range(n):\n",
      "                    for k in range(n):\n",
      "                        if ((((i + j) + k) * ((i - j) + k)) > 0):\n",
      "                            locals_mv[tid * PAD] += sqrt((((i + j) + k) * ((i - j) + k)))\n",
      "        for t in range(T):\n",
      "            result += locals_mv[t * PAD]\n",
      "        return result\n",
      "\n",
      "\n",
      "🔧 正在编译…（平台: win32, Python: 3.10.16）\n",
      "⚙️  编译成功。\n",
      "\n",
      "✅ 函数 `parallel_ok_3d_loop` 已并行加速并可直接使用！\n",
      "📌 用法示例: result = parallel_ok_3d_loop(1000000, num_threads=4)\n",
      "📦 扩展模块位于: c:\\Users\\xiong\\Desktop\\9.4brandnew_ast+openmp+cython\\.cython_openmp_cache\\parallel_ok_3d_loop_03d3986e.cp310-win_amd64.pyd\n"
     ]
    }
   ],
   "source": [
    "%%cython_openmp -n parallel_ok_3d_loop\n",
    "def parallel_ok_3d_loop(n=100):\n",
    "    result = 0.0\n",
    "    for i in range(n):\n",
    "        for j in range(n):\n",
    "            for k in range(n):\n",
    "                temp = (i + j + k) * (i - j + k)\n",
    "                if temp > 0:\n",
    "                    result += temp ** 0.5\n",
    "    return result"
   ]
  },
  {
   "cell_type": "code",
   "execution_count": 17,
   "metadata": {},
   "outputs": [],
   "source": [
    "def baseline_ok_3d_loop(n=100):\n",
    "    result = 0.0\n",
    "    for i in range(n):\n",
    "        for j in range(n):\n",
    "            for k in range(n):\n",
    "                temp = (i + j + k) * (i - j + k)\n",
    "                if temp > 0:\n",
    "                    result += temp ** 0.5\n",
    "    return result"
   ]
  },
  {
   "cell_type": "code",
   "execution_count": 18,
   "metadata": {},
   "outputs": [
    {
     "name": "stdout",
     "output_type": "stream",
     "text": [
      "78126227.34051621\n",
      "78126227.34050924\n",
      "true\n"
     ]
    }
   ],
   "source": [
    "n = 100\n",
    "ref = baseline_ok_3d_loop(n)\n",
    "opt = parallel_ok_3d_loop(n)\n",
    "print(ref)\n",
    "print(opt)\n",
    "\n",
    "print(\"true\" if abs(ref - opt) < 1e-5 else \"false\")"
   ]
  },
  {
   "cell_type": "code",
   "execution_count": 261,
   "metadata": {},
   "outputs": [
    {
     "name": "stdout",
     "output_type": "stream",
     "text": [
      "Baseline 平均时间: 5.494869s\n",
      "Optimized 平均时间: 0.012857s\n",
      "加速比: 427.37×\n"
     ]
    }
   ],
   "source": [
    "import timeit\n",
    "\n",
    "n = 300\n",
    "repeats = 5\n",
    "\n",
    "t_base = timeit.timeit(lambda: baseline_ok_3d_loop(n), number=repeats) / repeats\n",
    "t_opt  = timeit.timeit(lambda: parallel_ok_3d_loop(n, num_threads=8), number=repeats)  / repeats\n",
    "speedup = t_base / t_opt\n",
    "\n",
    "print(f\"Baseline 平均时间: {t_base:.6f}s\")\n",
    "print(f\"Optimized 平均时间: {t_opt:.6f}s\")\n",
    "print(f\"加速比: {speedup:.2f}×\")"
   ]
  },
  {
   "cell_type": "markdown",
   "metadata": {},
   "source": [
    "55555555555555555555555"
   ]
  },
  {
   "cell_type": "code",
   "execution_count": 19,
   "metadata": {},
   "outputs": [
    {
     "name": "stdout",
     "output_type": "stream",
     "text": [
      "🔧 Cython + OpenMP 并行编译器 v2 (magic: %cython_openmp)\n",
      "📌 目标函数名: parallel_write_array\n",
      "🧩 临时构建目录: C:\\Users\\xiong\\AppData\\Local\\Temp\\cython_omp_2_ce1ayz\n",
      "📐 prange 调度: static\n",
      "\n",
      "📄 生成的 Cython 并行代码如下：\n",
      "\n",
      "\n",
      "    # cython: boundscheck=False, wraparound=False, initializedcheck=False, nonecheck=False\n",
      "    # cython: cdivision=True, infer_types=True\n",
      "    from cython.parallel cimport prange, parallel\n",
      "    from openmp cimport omp_get_max_threads, omp_get_thread_num, omp_set_num_threads\n",
      "    from libc.math cimport sqrt, pow, fabs as c_fabs, exp as c_exp, log as c_log, sin as c_sin, cos as c_cos, tanh as c_tanh\n",
      "    cimport cython\n",
      "    import numpy as np\n",
      "    cimport numpy as np\n",
      "\n",
      "\n",
      "    def parallel_write_array(int n, int num_threads=0):\n",
      "        cdef Py_ssize_t i, j\n",
      "        cdef np.ndarray[np.double_t, ndim=2] arr = np.empty((n, n), dtype=np.float64)\n",
      "        cdef double[:, ::1] arr_mv = arr\n",
      "        if num_threads > 0:\n",
      "            omp_set_num_threads(num_threads)\n",
      "        with nogil, parallel():\n",
      "            for i in prange(n, schedule=\"static\"):\n",
      "                for j in range(n):\n",
      "                    arr_mv[i, j] = (i + j)\n",
      "        return arr\n",
      "\n",
      "\n",
      "🔧 正在编译…（平台: win32, Python: 3.10.16）\n",
      "⚙️  编译成功。\n",
      "\n",
      "✅ 函数 `parallel_write_array` 已并行加速并可直接使用！\n",
      "📌 用法示例: result = parallel_write_array(1000000, num_threads=4)\n",
      "📦 扩展模块位于: c:\\Users\\xiong\\Desktop\\9.4brandnew_ast+openmp+cython\\.cython_openmp_cache\\parallel_write_array_9e444609.cp310-win_amd64.pyd\n"
     ]
    }
   ],
   "source": [
    "%%cython_openmp -n parallel_write_array\n",
    "import numpy as np\n",
    "\n",
    "def parallel_write_array(n=100):\n",
    "    arr = np.zeros((n, n))\n",
    "    for i in range(n):\n",
    "        for j in range(n):\n",
    "            arr[i][j] = i + j\n",
    "    return arr"
   ]
  },
  {
   "cell_type": "code",
   "execution_count": 20,
   "metadata": {},
   "outputs": [],
   "source": [
    "import numpy as np\n",
    "\n",
    "def baseline_write_array(n=100):\n",
    "    arr = np.zeros((n, n))\n",
    "    for i in range(n):\n",
    "        for j in range(n):\n",
    "            arr[i][j] = i + j\n",
    "    return arr"
   ]
  },
  {
   "cell_type": "code",
   "execution_count": 21,
   "metadata": {},
   "outputs": [
    {
     "name": "stdout",
     "output_type": "stream",
     "text": [
      "true\n"
     ]
    }
   ],
   "source": [
    "import numpy as np\n",
    "\n",
    "\n",
    "n = 100\n",
    "ref = baseline_write_array(n)\n",
    "opt = parallel_write_array(n)\n",
    "\n",
    "# 仅输出是否一致\n",
    "print(\"true\" if np.array_equal(ref, opt) else \"false\")"
   ]
  },
  {
   "cell_type": "code",
   "execution_count": 327,
   "metadata": {},
   "outputs": [
    {
     "name": "stdout",
     "output_type": "stream",
     "text": [
      "Baseline 平均时间: 0.017096s\n",
      "Optimized 平均时间: 0.000044s\n",
      "加速比: 385.58×\n"
     ]
    }
   ],
   "source": [
    "import timeit\n",
    "\n",
    "\n",
    "n = 300\n",
    "repeats = 5\n",
    "\n",
    "t_base = timeit.timeit(lambda: baseline_write_array(n), number=repeats) / repeats\n",
    "t_opt  = timeit.timeit(lambda: parallel_write_array(n,num_threads=8), number=repeats) / repeats\n",
    "speedup = t_base / t_opt\n",
    "\n",
    "print(f\"Baseline 平均时间: {t_base:.6f}s\")\n",
    "print(f\"Optimized 平均时间: {t_opt:.6f}s\")\n",
    "print(f\"加速比: {speedup:.2f}×\")"
   ]
  },
  {
   "cell_type": "markdown",
   "metadata": {},
   "source": [
    "66666666666666666666"
   ]
  },
  {
   "cell_type": "code",
   "execution_count": 22,
   "metadata": {},
   "outputs": [
    {
     "name": "stdout",
     "output_type": "stream",
     "text": [
      "🔧 Cython + OpenMP 并行编译器 v2 (magic: %cython_openmp)\n",
      "📌 目标函数名: vector_norm\n",
      "🧩 临时构建目录: C:\\Users\\xiong\\AppData\\Local\\Temp\\cython_omp_dm04gtzh\n",
      "📐 prange 调度: static\n",
      "\n",
      "📄 生成的 Cython 并行代码如下：\n",
      "\n",
      "\n",
      "    # cython: boundscheck=False, wraparound=False, initializedcheck=False, nonecheck=False\n",
      "    # cython: cdivision=True, infer_types=True\n",
      "    from cython.parallel cimport prange, parallel\n",
      "    from openmp cimport omp_get_max_threads, omp_get_thread_num, omp_set_num_threads\n",
      "    from libc.math cimport sqrt, pow, fabs as c_fabs, exp as c_exp, log as c_log, sin as c_sin, cos as c_cos, tanh as c_tanh\n",
      "    cimport cython\n",
      "    import numpy as np\n",
      "    cimport numpy as np\n",
      "\n",
      "\n",
      "    def vector_norm(int n, int num_threads=0):\n",
      "        cdef Py_ssize_t i, t, tid\n",
      "        cdef double total = 0.0\n",
      "        cdef int PAD = 16\n",
      "    \n",
      "        cdef int T = omp_get_max_threads()\n",
      "        cdef np.ndarray[np.double_t, ndim=1] _locals = np.zeros(T * PAD, dtype=np.float64)\n",
      "        cdef double[:] locals_mv = _locals\n",
      "        with nogil, parallel():\n",
      "            tid = omp_get_thread_num()\n",
      "            for i in prange(n, schedule=\"static\"):\n",
      "                locals_mv[tid * PAD] += (((i * 0.001)) * ((i * 0.001)))\n",
      "        for t in range(T):\n",
      "            total += locals_mv[t * PAD]\n",
      "        return sqrt(total)\n",
      "\n",
      "\n",
      "🔧 正在编译…（平台: win32, Python: 3.10.16）\n",
      "⚙️  编译成功。\n",
      "\n",
      "✅ 函数 `vector_norm` 已并行加速并可直接使用！\n",
      "📌 用法示例: result = vector_norm(1000000, num_threads=4)\n",
      "📦 扩展模块位于: c:\\Users\\xiong\\Desktop\\9.4brandnew_ast+openmp+cython\\.cython_openmp_cache\\vector_norm_e2821d1e.cp310-win_amd64.pyd\n"
     ]
    }
   ],
   "source": [
    "%%cython_openmp -n vector_norm\n",
    "def vector_norm(n=1000):\n",
    "    total = 0.0\n",
    "    for i in range(n):\n",
    "        total += ((i * 0.001) ** 2)\n",
    "    return total ** 0.5"
   ]
  },
  {
   "cell_type": "code",
   "execution_count": 23,
   "metadata": {},
   "outputs": [],
   "source": [
    "def baseline_vector_norm(n=1000):\n",
    "    total = 0.0\n",
    "    for i in range(n):\n",
    "        total += ((i * 0.001) ** 2)\n",
    "    return total ** 0.5"
   ]
  },
  {
   "cell_type": "code",
   "execution_count": 24,
   "metadata": {},
   "outputs": [
    {
     "name": "stdout",
     "output_type": "stream",
     "text": [
      "18.24372494859534\n",
      "18.24372494859534\n",
      "T\n"
     ]
    }
   ],
   "source": [
    "\n",
    "n = 1000\n",
    "ref = baseline_vector_norm(n)\n",
    "opt = vector_norm(n)\n",
    "print(ref)\n",
    "print(opt)\n",
    "\n",
    "tol = 1e-12\n",
    "print(\"T\" if abs(ref - opt) < tol else \"F\")"
   ]
  },
  {
   "cell_type": "code",
   "execution_count": 30,
   "metadata": {},
   "outputs": [
    {
     "name": "stdout",
     "output_type": "stream",
     "text": [
      "Baseline 平均时间: 0.000399s\n",
      "Optimized 平均时间: 0.000040s\n",
      "加速比: 10.08×\n"
     ]
    }
   ],
   "source": [
    "import timeit\n",
    "\n",
    "n = 3000\n",
    "repeats = 5\n",
    "\n",
    "t_base = timeit.timeit(lambda: baseline_vector_norm(n), number=repeats) / repeats\n",
    "t_opt  = timeit.timeit(lambda: vector_norm(n,num_threads=8), number=repeats)  / repeats\n",
    "speedup = t_base / t_opt\n",
    "\n",
    "print(f\"Baseline 平均时间: {t_base:.6f}s\")\n",
    "print(f\"Optimized 平均时间: {t_opt:.6f}s\")\n",
    "print(f\"加速比: {speedup:.2f}×\")"
   ]
  },
  {
   "cell_type": "markdown",
   "metadata": {},
   "source": [
    "777777777777777777777"
   ]
  },
  {
   "cell_type": "code",
   "execution_count": 31,
   "metadata": {},
   "outputs": [
    {
     "name": "stdout",
     "output_type": "stream",
     "text": [
      "🔧 Cython + OpenMP 并行编译器 v2 (magic: %cython_openmp)\n",
      "📌 目标函数名: matmul_nested\n",
      "🧩 临时构建目录: C:\\Users\\xiong\\AppData\\Local\\Temp\\cython_omp_maaz4f47\n",
      "📐 prange 调度: static\n",
      "\n",
      "📄 生成的 Cython 并行代码如下：\n",
      "\n",
      "\n",
      "    # cython: boundscheck=False, wraparound=False, initializedcheck=False, nonecheck=False\n",
      "    # cython: cdivision=True, infer_types=True\n",
      "    from cython.parallel cimport prange, parallel\n",
      "    from openmp cimport omp_get_max_threads, omp_get_thread_num, omp_set_num_threads\n",
      "    from libc.math cimport sqrt, pow, fabs as c_fabs, exp as c_exp, log as c_log, sin as c_sin, cos as c_cos, tanh as c_tanh\n",
      "    cimport cython\n",
      "    import numpy as np\n",
      "    cimport numpy as np\n",
      "\n",
      "\n",
      "    def matmul_nested(np.ndarray[np.double_t, ndim=2] A,\n",
      "                    np.ndarray[np.double_t, ndim=2] B,\n",
      "                    int num_threads=0):\n",
      "        cdef Py_ssize_t M = A.shape[0]\n",
      "        cdef Py_ssize_t K = A.shape[1]\n",
      "        cdef Py_ssize_t N = B.shape[1]\n",
      "\n",
      "        if A.dtype != np.float64 or B.dtype != np.float64:\n",
      "            raise ValueError(\"A, B must be float64\")\n",
      "        if not A.flags.c_contiguous:\n",
      "            raise ValueError(\"A must be C-contiguous\")\n",
      "        if B.shape[0] != K:\n",
      "            raise ValueError(\"Shapes mismatch: A(M,K) x B(K,N)\")\n",
      "\n",
      "        cdef np.ndarray[np.double_t, ndim=2] BT = np.ascontiguousarray(B.T)\n",
      "        cdef np.ndarray[np.double_t, ndim=2] C = np.empty((M, N), dtype=np.float64)\n",
      "\n",
      "        cdef const double[:, ::1] A_mv = A\n",
      "        cdef const double[:, ::1] BT_mv = BT   # (N, K)\n",
      "        cdef double[:, ::1] C_mv = C\n",
      "\n",
      "        cdef Py_ssize_t i, j\n",
      "\n",
      "        if num_threads > 0:\n",
      "            omp_set_num_threads(num_threads)\n",
      "\n",
      "        with nogil, parallel():\n",
      "            for i in prange(M, schedule=\"static\"):\n",
      "                for j in range(N):\n",
      "                    C_mv[i, j] = _dot_row_BTrow(A_mv, BT_mv, K, i, j)\n",
      "        return C\n",
      "\n",
      "    cdef inline double _dot_row_BTrow(const double[:, ::1] A_mv,\n",
      "                                      const double[:, ::1] BT_mv,\n",
      "                                      Py_ssize_t K,\n",
      "                                      Py_ssize_t i,\n",
      "                                      Py_ssize_t j) nogil:\n",
      "        cdef Py_ssize_t k\n",
      "        cdef double s = 0.0\n",
      "        for k in range(K):\n",
      "            s += A_mv[i, k] * BT_mv[j, k]\n",
      "        return s\n",
      "\n",
      "\n",
      "🔧 正在编译…（平台: win32, Python: 3.10.16）\n",
      "⚙️  编译成功。\n",
      "\n",
      "✅ 函数 `matmul_nested` 已并行加速并可直接使用！\n",
      "📌 用法示例: result = matmul_nested(1000000, num_threads=4)\n",
      "📦 扩展模块位于: c:\\Users\\xiong\\Desktop\\9.4brandnew_ast+openmp+cython\\.cython_openmp_cache\\matmul_nested_e9f2061c.cp310-win_amd64.pyd\n"
     ]
    }
   ],
   "source": [
    "%%cython_openmp -n matmul_nested\n",
    "import numpy as np\n",
    "\n",
    "def matmul_nested(A, B):\n",
    "    N = A.shape[0]\n",
    "    C = np.zeros((N, N), np.float64)\n",
    "    for i in range(N):\n",
    "        for j in range(N):\n",
    "            for k in range(N):\n",
    "                C[i, j] += A[i, k] * B[k, j]\n",
    "    return C"
   ]
  },
  {
   "cell_type": "code",
   "execution_count": 32,
   "metadata": {},
   "outputs": [],
   "source": [
    "import numpy as np\n",
    "\n",
    "def matmul_py(A, B):\n",
    "    N = A.shape[0]\n",
    "    C = np.zeros((N, N))\n",
    "    for i in range(N):\n",
    "        for j in range(N):\n",
    "            for k in range(N):\n",
    "                C[i, j] += A[i, k] * B[k, j]\n",
    "    return C"
   ]
  },
  {
   "cell_type": "code",
   "execution_count": 33,
   "metadata": {},
   "outputs": [
    {
     "name": "stdout",
     "output_type": "stream",
     "text": [
      "Are they close?  True\n"
     ]
    }
   ],
   "source": [
    "import numpy as np\n",
    "\n",
    "# 生成测试矩阵\n",
    "N = 100\n",
    "A = np.random.rand(N, N)\n",
    "B = np.random.rand(N, N)\n",
    "\n",
    "# Python 版本计算\n",
    "C_py = matmul_py(A, B)\n",
    "\n",
    "# Cython 版本计算\n",
    "C_cy = matmul_nested(A, B)\n",
    "\n",
    "\n",
    "# 判断是否相等\n",
    "print(\"Are they close? \", np.allclose(C_py, C_cy, atol=1e-12))\n",
    "\n"
   ]
  },
  {
   "cell_type": "code",
   "execution_count": 34,
   "metadata": {},
   "outputs": [
    {
     "name": "stdout",
     "output_type": "stream",
     "text": [
      "Baseline 平均时间: 0.052016s\n",
      "Optimized 平均时间: 0.000076s\n",
      "加速比: 682.99×\n"
     ]
    }
   ],
   "source": [
    "N = 50\n",
    "A = np.random.rand(N, N)\n",
    "B = np.random.rand(N, N)\n",
    "repeats = 5\n",
    "\n",
    "# 基线计时\n",
    "t_base = timeit.timeit(lambda: matmul_py(A, B), number=repeats) / repeats\n",
    "# 优化版计时\n",
    "t_opt  = timeit.timeit(lambda: matmul_nested(A, B,num_threads=8), number=repeats)  / repeats\n",
    "speedup=t_base/t_opt\n",
    "print(f\"Baseline 平均时间: {t_base:.6f}s\")\n",
    "print(f\"Optimized 平均时间: {t_opt:.6f}s\")\n",
    "print(f\"加速比: {speedup:.2f}×\")"
   ]
  },
  {
   "cell_type": "markdown",
   "metadata": {},
   "source": [
    "7777777777777777777777777777"
   ]
  },
  {
   "cell_type": "code",
   "execution_count": 35,
   "metadata": {},
   "outputs": [
    {
     "name": "stdout",
     "output_type": "stream",
     "text": [
      "🔧 Cython + OpenMP 并行编译器 v2 (magic: %cython_openmp)\n",
      "📌 目标函数名: matmul_mkn\n",
      "🧩 临时构建目录: C:\\Users\\xiong\\AppData\\Local\\Temp\\cython_omp_21qiob9r\n",
      "📐 prange 调度: static\n",
      "\n",
      "📄 生成的 Cython 并行代码如下：\n",
      "\n",
      "\n",
      "    # cython: boundscheck=False, wraparound=False, initializedcheck=False, nonecheck=False\n",
      "    # cython: cdivision=True, infer_types=True\n",
      "    from cython.parallel cimport prange, parallel\n",
      "    from openmp cimport omp_get_max_threads, omp_get_thread_num, omp_set_num_threads\n",
      "    from libc.math cimport sqrt, pow, fabs as c_fabs, exp as c_exp, log as c_log, sin as c_sin, cos as c_cos, tanh as c_tanh\n",
      "    cimport cython\n",
      "    import numpy as np\n",
      "    cimport numpy as np\n",
      "\n",
      "\n",
      "    def matmul_mkn(np.ndarray[np.double_t, ndim=2] A,\n",
      "                    np.ndarray[np.double_t, ndim=2] B,\n",
      "                    int num_threads=0):\n",
      "        cdef Py_ssize_t M = A.shape[0]\n",
      "        cdef Py_ssize_t K = A.shape[1]\n",
      "        cdef Py_ssize_t N = B.shape[1]\n",
      "\n",
      "        if A.dtype != np.float64 or B.dtype != np.float64:\n",
      "            raise ValueError(\"A, B must be float64\")\n",
      "        if not A.flags.c_contiguous:\n",
      "            raise ValueError(\"A must be C-contiguous\")\n",
      "        if B.shape[0] != K:\n",
      "            raise ValueError(\"Shapes mismatch: A(M,K) x B(K,N)\")\n",
      "\n",
      "        cdef np.ndarray[np.double_t, ndim=2] BT = np.ascontiguousarray(B.T)\n",
      "        cdef np.ndarray[np.double_t, ndim=2] C = np.empty((M, N), dtype=np.float64)\n",
      "\n",
      "        cdef const double[:, ::1] A_mv = A\n",
      "        cdef const double[:, ::1] BT_mv = BT   # (N, K)\n",
      "        cdef double[:, ::1] C_mv = C\n",
      "\n",
      "        cdef Py_ssize_t i, j\n",
      "\n",
      "        if num_threads > 0:\n",
      "            omp_set_num_threads(num_threads)\n",
      "\n",
      "        with nogil, parallel():\n",
      "            for i in prange(M, schedule=\"static\"):\n",
      "                for j in range(N):\n",
      "                    C_mv[i, j] = _dot_row_BTrow(A_mv, BT_mv, K, i, j)\n",
      "        return C\n",
      "\n",
      "    cdef inline double _dot_row_BTrow(const double[:, ::1] A_mv,\n",
      "                                      const double[:, ::1] BT_mv,\n",
      "                                      Py_ssize_t K,\n",
      "                                      Py_ssize_t i,\n",
      "                                      Py_ssize_t j) nogil:\n",
      "        cdef Py_ssize_t k\n",
      "        cdef double s = 0.0\n",
      "        for k in range(K):\n",
      "            s += A_mv[i, k] * BT_mv[j, k]\n",
      "        return s\n",
      "\n",
      "\n",
      "🔧 正在编译…（平台: win32, Python: 3.10.16）\n",
      "⚙️  编译成功。\n",
      "\n",
      "✅ 函数 `matmul_mkn` 已并行加速并可直接使用！\n",
      "📌 用法示例: result = matmul_mkn(1000000, num_threads=4)\n",
      "📦 扩展模块位于: c:\\Users\\xiong\\Desktop\\9.4brandnew_ast+openmp+cython\\.cython_openmp_cache\\matmul_mkn_15040ca1.cp310-win_amd64.pyd\n"
     ]
    }
   ],
   "source": [
    "%%cython_openmp -n matmul_mkn\n",
    "import numpy as np\n",
    "\n",
    "def matmul_mkn(A, B):\n",
    "    M = A.shape[0]\n",
    "    K = A.shape[1]\n",
    "    N = B.shape[1]\n",
    "    C = np.zeros((M, N), np.float64)\n",
    "    for i in range(M):\n",
    "        for j in range(N):\n",
    "            for k in range(K):\n",
    "                C[i, j] += A[i, k] * B[k, j]\n",
    "    return C\n"
   ]
  },
  {
   "cell_type": "code",
   "execution_count": 36,
   "metadata": {},
   "outputs": [
    {
     "name": "stdout",
     "output_type": "stream",
     "text": [
      "allclose?  True\n"
     ]
    }
   ],
   "source": [
    "import numpy as np\n",
    "M, K, N = 64, 128, 32\n",
    "A = np.ascontiguousarray(np.random.rand(M, K), dtype=np.float64)\n",
    "B = np.ascontiguousarray(np.random.rand(K, N), dtype=np.float64)\n",
    "\n",
    "C_py = A @ B\n",
    "C_cy = matmul_mkn(A, B)\n",
    "print(\"allclose? \", np.allclose(C_py, C_cy, atol=1e-12))\n"
   ]
  },
  {
   "cell_type": "code",
   "execution_count": 37,
   "metadata": {},
   "outputs": [],
   "source": [
    "import numpy as np\n",
    "import timeit\n",
    "\n",
    "def matmul_mkn_py(A, B):\n",
    "    M = A.shape[0]\n",
    "    K = A.shape[1]\n",
    "    N = B.shape[1]\n",
    "    C = np.zeros((M, N), np.float64)\n",
    "    for i in range(M):\n",
    "        for j in range(N):\n",
    "            for k in range(K):\n",
    "                C[i, j] += A[i, k] * B[k, j]\n",
    "    return C\n"
   ]
  },
  {
   "cell_type": "code",
   "execution_count": 38,
   "metadata": {},
   "outputs": [
    {
     "name": "stdout",
     "output_type": "stream",
     "text": [
      "M=200, K=300, N=150\n",
      "Baseline 平均时间: 3.480501s\n",
      "Optimized 平均时间: 0.001273s\n",
      "加速比: 2735.02×\n"
     ]
    }
   ],
   "source": [
    "# 参数设置\n",
    "M, K, N = 200, 300, 150   # 可改大一些\n",
    "A = np.ascontiguousarray(np.random.rand(M, K), dtype=np.float64)\n",
    "B = np.ascontiguousarray(np.random.rand(K, N), dtype=np.float64)\n",
    "\n",
    "repeats = 3\n",
    "\n",
    "# Python 版本计时\n",
    "t_base = timeit.timeit(lambda: matmul_mkn_py(A, B), number=repeats) / repeats\n",
    "\n",
    "# Cython+OpenMP 版本计时 (记得传 num_threads)\n",
    "t_opt  = timeit.timeit(lambda: matmul_mkn(A, B, num_threads=8), number=repeats) / repeats\n",
    "\n",
    "speedup = t_base / t_opt\n",
    "\n",
    "print(f\"M={M}, K={K}, N={N}\")\n",
    "print(f\"Baseline 平均时间: {t_base:.6f}s\")\n",
    "print(f\"Optimized 平均时间: {t_opt:.6f}s\")\n",
    "print(f\"加速比: {speedup:.2f}×\")\n"
   ]
  },
  {
   "cell_type": "markdown",
   "metadata": {},
   "source": [
    "888888888888888888"
   ]
  },
  {
   "cell_type": "code",
   "execution_count": 39,
   "metadata": {},
   "outputs": [
    {
     "name": "stdout",
     "output_type": "stream",
     "text": [
      "🔧 Cython + OpenMP 并行编译器 v2 (magic: %cython_openmp)\n",
      "📌 目标函数名: test_4d_loop_py\n",
      "🧩 临时构建目录: C:\\Users\\xiong\\AppData\\Local\\Temp\\cython_omp_ma22kufr\n",
      "📐 prange 调度: static\n",
      "\n",
      "📄 生成的 Cython 并行代码如下：\n",
      "\n",
      "\n",
      "    # cython: boundscheck=False, wraparound=False, initializedcheck=False, nonecheck=False\n",
      "    # cython: cdivision=True, infer_types=True\n",
      "    from cython.parallel cimport prange, parallel\n",
      "    from openmp cimport omp_get_max_threads, omp_get_thread_num, omp_set_num_threads\n",
      "    from libc.math cimport sqrt, pow, fabs as c_fabs, exp as c_exp, log as c_log, sin as c_sin, cos as c_cos, tanh as c_tanh\n",
      "    cimport cython\n",
      "    import numpy as np\n",
      "    cimport numpy as np\n",
      "\n",
      "\n",
      "    def test_4d_loop_py(int n, int num_threads=0):\n",
      "        cdef Py_ssize_t a, b, c, d, t, tid\n",
      "        cdef double result = 0.0\n",
      "        cdef int PAD = 16\n",
      "    \n",
      "        cdef int T = omp_get_max_threads()\n",
      "        cdef np.ndarray[np.double_t, ndim=1] _locals = np.zeros(T * PAD, dtype=np.float64)\n",
      "        cdef double[:] locals_mv = _locals\n",
      "        with nogil, parallel():\n",
      "            tid = omp_get_thread_num()\n",
      "            for a in prange(n, schedule=\"static\"):\n",
      "                for b in range(n):\n",
      "                    for c in range(n):\n",
      "                        for d in range(n):\n",
      "                            locals_mv[tid * PAD] += (((a + b) + c) + d)\n",
      "        for t in range(T):\n",
      "            result += locals_mv[t * PAD]\n",
      "        return result\n",
      "\n",
      "\n",
      "🔧 正在编译…（平台: win32, Python: 3.10.16）\n",
      "⚙️  编译成功。\n",
      "\n",
      "✅ 函数 `test_4d_loop_py` 已并行加速并可直接使用！\n",
      "📌 用法示例: result = test_4d_loop_py(1000000, num_threads=4)\n",
      "📦 扩展模块位于: c:\\Users\\xiong\\Desktop\\9.4brandnew_ast+openmp+cython\\.cython_openmp_cache\\test_4d_loop_py_d32f6da7.cp310-win_amd64.pyd\n"
     ]
    }
   ],
   "source": [
    "%%cython_openmp -n test_4d_loop_py\n",
    "def test_4d_loop_py(n):\n",
    "    result = 0.0\n",
    "    for a in range(n):\n",
    "        for b in range(n):\n",
    "            for c in range(n):\n",
    "                for d in range(n):\n",
    "                    result += a + b + c + d\n",
    "    return result"
   ]
  },
  {
   "cell_type": "code",
   "execution_count": 40,
   "metadata": {},
   "outputs": [],
   "source": [
    "def test_4d_loop_py_baseline(n):\n",
    "    result = 0.0\n",
    "    for a in range(n):\n",
    "        for b in range(n):\n",
    "            for c in range(n):\n",
    "                for d in range(n):\n",
    "                    result += a + b + c + d\n",
    "    return result"
   ]
  },
  {
   "cell_type": "code",
   "execution_count": 41,
   "metadata": {},
   "outputs": [
    {
     "name": "stdout",
     "output_type": "stream",
     "text": [
      "t\n"
     ]
    }
   ],
   "source": [
    "n = 50\n",
    "ref = test_4d_loop_py_baseline(n)\n",
    "opt = test_4d_loop_py(n)\n",
    "\n",
    "# 仅输出是否一致\n",
    "tol = 1e-12\n",
    "print(\"t\" if abs(ref - opt) < tol else \"f\")"
   ]
  },
  {
   "cell_type": "code",
   "execution_count": 43,
   "metadata": {},
   "outputs": [
    {
     "name": "stdout",
     "output_type": "stream",
     "text": [
      "Baseline 平均时间: 0.401280s\n",
      "Optimized 平均时间: 0.002557s\n",
      "加速比: 156.91×\n"
     ]
    }
   ],
   "source": [
    "import timeit\n",
    "\n",
    "n = 50\n",
    "repeats = 3\n",
    "\n",
    "t_base = timeit.timeit(lambda: test_4d_loop_py_baseline(n), number=repeats) / repeats\n",
    "t_opt  = timeit.timeit(lambda: test_4d_loop_py(n, num_threads=8), number=repeats)  / repeats\n",
    "speedup = t_base / t_opt\n",
    "\n",
    "print(f\"Baseline 平均时间: {t_base:.6f}s\")\n",
    "print(f\"Optimized 平均时间: {t_opt:.6f}s\")\n",
    "print(f\"加速比: {speedup:.2f}×\")"
   ]
  },
  {
   "cell_type": "markdown",
   "metadata": {},
   "source": [
    "99999999999"
   ]
  },
  {
   "cell_type": "code",
   "execution_count": 44,
   "metadata": {},
   "outputs": [
    {
     "name": "stdout",
     "output_type": "stream",
     "text": [
      "🔧 Cython + OpenMP 并行编译器 v2 (magic: %cython_openmp)\n",
      "📌 目标函数名: matmul_mkn\n",
      "🧩 临时构建目录: C:\\Users\\xiong\\AppData\\Local\\Temp\\cython_omp_t7g31ctt\n",
      "📐 prange 调度: static\n",
      "\n",
      "📄 生成的 Cython 并行代码如下：\n",
      "\n",
      "\n",
      "    # cython: boundscheck=False, wraparound=False, initializedcheck=False, nonecheck=False\n",
      "    # cython: cdivision=True, infer_types=True\n",
      "    from cython.parallel cimport prange, parallel\n",
      "    from openmp cimport omp_get_max_threads, omp_get_thread_num, omp_set_num_threads\n",
      "    from libc.math cimport sqrt, pow, fabs as c_fabs, exp as c_exp, log as c_log, sin as c_sin, cos as c_cos, tanh as c_tanh\n",
      "    cimport cython\n",
      "    import numpy as np\n",
      "    cimport numpy as np\n",
      "\n",
      "\n",
      "    def matmul_mkn(np.ndarray[np.double_t, ndim=2] A,\n",
      "                    np.ndarray[np.double_t, ndim=2] B,\n",
      "                    int num_threads=0):\n",
      "        cdef Py_ssize_t M = A.shape[0]\n",
      "        cdef Py_ssize_t K = A.shape[1]\n",
      "        cdef Py_ssize_t N = B.shape[1]\n",
      "\n",
      "        if A.dtype != np.float64 or B.dtype != np.float64:\n",
      "            raise ValueError(\"A, B must be float64\")\n",
      "        if not A.flags.c_contiguous:\n",
      "            raise ValueError(\"A must be C-contiguous\")\n",
      "        if B.shape[0] != K:\n",
      "            raise ValueError(\"Shapes mismatch: A(M,K) x B(K,N)\")\n",
      "\n",
      "        cdef np.ndarray[np.double_t, ndim=2] BT = np.ascontiguousarray(B.T)\n",
      "        cdef np.ndarray[np.double_t, ndim=2] C = np.empty((M, N), dtype=np.float64)\n",
      "\n",
      "        cdef const double[:, ::1] A_mv = A\n",
      "        cdef const double[:, ::1] BT_mv = BT   # (N, K)\n",
      "        cdef double[:, ::1] C_mv = C\n",
      "\n",
      "        cdef Py_ssize_t i, j\n",
      "\n",
      "        if num_threads > 0:\n",
      "            omp_set_num_threads(num_threads)\n",
      "\n",
      "        with nogil, parallel():\n",
      "            for i in prange(M, schedule=\"static\"):\n",
      "                for j in range(N):\n",
      "                    C_mv[i, j] = _dot_row_BTrow(A_mv, BT_mv, K, i, j)\n",
      "        return C\n",
      "\n",
      "    cdef inline double _dot_row_BTrow(const double[:, ::1] A_mv,\n",
      "                                      const double[:, ::1] BT_mv,\n",
      "                                      Py_ssize_t K,\n",
      "                                      Py_ssize_t i,\n",
      "                                      Py_ssize_t j) nogil:\n",
      "        cdef Py_ssize_t k\n",
      "        cdef double s = 0.0\n",
      "        for k in range(K):\n",
      "            s += A_mv[i, k] * BT_mv[j, k]\n",
      "        return s\n",
      "\n",
      "\n",
      "🔧 正在编译…（平台: win32, Python: 3.10.16）\n",
      "⚙️  编译成功。\n",
      "\n",
      "✅ 函数 `matmul_mkn` 已并行加速并可直接使用！\n",
      "📌 用法示例: result = matmul_mkn(1000000, num_threads=4)\n",
      "📦 扩展模块位于: c:\\Users\\xiong\\Desktop\\9.4brandnew_ast+openmp+cython\\.cython_openmp_cache\\matmul_mkn_3a723f80.cp310-win_amd64.pyd\n"
     ]
    }
   ],
   "source": [
    "%%cython_openmp -n matmul_mkn\n",
    "import numpy as np\n",
    "def matmul_mkn(A, B):\n",
    "    M = A.shape[0]; K = A.shape[1]; N = B.shape[1]\n",
    "    C = np.zeros((M, N), np.float64)\n",
    "    for j in range(N):     # ← 故意换循环层序\n",
    "        for i in range(M):\n",
    "            acc = 0.0\n",
    "            for k in range(K):\n",
    "                acc += A[i, k] * B[k, j]\n",
    "            C[i, j] = acc\n",
    "    return C\n"
   ]
  },
  {
   "cell_type": "code",
   "execution_count": 45,
   "metadata": {},
   "outputs": [
    {
     "name": "stdout",
     "output_type": "stream",
     "text": [
      "equal: True\n",
      "Baseline 平均时间: 0.274761s\n",
      "Optimized 平均时间: 0.000176s\n",
      "加速比: 1562.92×\n"
     ]
    }
   ],
   "source": [
    "import numpy as np, timeit\n",
    "\n",
    "def matmul_mkn_py(A, B):\n",
    "    M, K = A.shape; N = B.shape[1]\n",
    "    C = np.zeros((M, N), np.float64)\n",
    "    for j in range(N):\n",
    "        for i in range(M):\n",
    "            acc = 0.0\n",
    "            for k in range(K):\n",
    "                acc += A[i, k] * B[k, j]\n",
    "            C[i, j] = acc\n",
    "    return C\n",
    "\n",
    "M, K, N = 120, 80, 100\n",
    "A = np.random.rand(M, K)\n",
    "B = np.random.rand(K, N)\n",
    "\n",
    "C0 = matmul_mkn_py(A, B)\n",
    "C1 = matmul_mkn(A, B, 8)   # 位置参数传线程数\n",
    "print(\"equal:\", np.allclose(C0, C1, rtol=1e-10, atol=1e-12))\n",
    "\n",
    "repeats = 3\n",
    "t_base = timeit.timeit(lambda: matmul_mkn_py(A, B), number=repeats)/repeats\n",
    "t_opt  = timeit.timeit(lambda: matmul_mkn(A, B, 8),   number=repeats)/repeats\n",
    "print(f\"Baseline 平均时间: {t_base:.6f}s\")\n",
    "print(f\"Optimized 平均时间: {t_opt:.6f}s\")\n",
    "print(f\"加速比: {t_base/t_opt:.2f}×\")\n"
   ]
  },
  {
   "cell_type": "markdown",
   "metadata": {},
   "source": [
    "100000"
   ]
  },
  {
   "cell_type": "code",
   "execution_count": 61,
   "metadata": {},
   "outputs": [
    {
     "name": "stdout",
     "output_type": "stream",
     "text": [
      "🔧 Cython + OpenMP 并行编译器 v2 (magic: %cython_openmp)\n",
      "📌 目标函数名: elem2d\n",
      "🧩 临时构建目录: C:\\Users\\xiong\\AppData\\Local\\Temp\\cython_omp_fi258zs9\n",
      "📐 prange 调度: static\n",
      "\n",
      "📄 生成的 Cython 并行代码如下：\n",
      "\n",
      "\n",
      "    # cython: boundscheck=False, wraparound=False, initializedcheck=False, nonecheck=False\n",
      "    # cython: cdivision=True, infer_types=True\n",
      "    from cython.parallel cimport prange, parallel\n",
      "    from openmp cimport omp_get_max_threads, omp_get_thread_num, omp_set_num_threads\n",
      "    from libc.math cimport sqrt, pow, fabs as c_fabs, exp as c_exp, log as c_log, sin as c_sin, cos as c_cos, tanh as c_tanh\n",
      "    cimport cython\n",
      "    import numpy as np\n",
      "    cimport numpy as np\n",
      "\n",
      "\n",
      "    def elem2d(np.ndarray[np.double_t, ndim=2] A, np.ndarray[np.double_t, ndim=2] B, np.ndarray[np.double_t, ndim=2] D, int num_threads=0):\n",
      "        cdef Py_ssize_t i, j\n",
      "        if A.dtype != np.float64 or not A.flags.c_contiguous:\n",
      "            raise ValueError(\"A must be float64 and C-contiguous\")\n",
      "        if B.dtype != np.float64 or not B.flags.c_contiguous:\n",
      "            raise ValueError(\"B must be float64 and C-contiguous\")\n",
      "        if D.dtype != np.float64 or not D.flags.c_contiguous:\n",
      "            raise ValueError(\"D must be float64 and C-contiguous\")\n",
      "\n",
      "        # 从第一个输入数组推导 M、N\n",
      "        cdef Py_ssize_t M = A.shape[0]\n",
      "        cdef Py_ssize_t N = A.shape[1]\n",
      "        cdef np.ndarray[np.double_t, ndim=2] C = np.empty((M, N), dtype=np.float64)\n",
      "        cdef double[:, ::1] C_mv = C\n",
      "        cdef const double[:, ::1] A_mv = A\n",
      "        cdef const double[:, ::1] B_mv = B\n",
      "        cdef const double[:, ::1] D_mv = D\n",
      "        if num_threads > 0:\n",
      "            omp_set_num_threads(num_threads)\n",
      "        with nogil, parallel():\n",
      "            for i in prange(M, schedule=\"static\"):\n",
      "                for j in range(N):\n",
      "                    C_mv[i, j] = (((1.0 / (1.0 + c_exp(-(A_mv[i, j])))) + B_mv[i, 3]) - c_log(D_mv[2, j]))\n",
      "        return C\n",
      "\n",
      "\n",
      "🔧 正在编译…（平台: win32, Python: 3.10.16）\n",
      "⚙️  编译成功。\n",
      "\n",
      "✅ 函数 `elem2d` 已并行加速并可直接使用！\n",
      "📌 用法示例: result = elem2d(1000000, num_threads=4)\n",
      "📦 扩展模块位于: c:\\Users\\xiong\\Desktop\\9.4brandnew_ast+openmp+cython\\.cython_openmp_cache\\elem2d_6e165f3b.cp310-win_amd64.pyd\n"
     ]
    }
   ],
   "source": [
    "%%cython_openmp -n elem2d\n",
    "import numpy as np\n",
    "def elem2d(A, B, D):\n",
    "    M, N = A.shape\n",
    "    C = np.empty((M, N), np.float64)\n",
    "    for i in range(M):\n",
    "        for j in range(N):\n",
    "            C[i,j] = 1.0/(1.0+np.exp(-A[i,j])) + B[i,3] - np.log(D[2,j])\n",
    "    return C\n"
   ]
  },
  {
   "cell_type": "code",
   "execution_count": 62,
   "metadata": {},
   "outputs": [
    {
     "name": "stdout",
     "output_type": "stream",
     "text": [
      "equal: True\n",
      "Baseline 平均时间: 0.251403s\n",
      "Optimized 平均时间: 0.000883s\n",
      "加速比: 284.67×\n"
     ]
    }
   ],
   "source": [
    "import numpy as np, timeit, math\n",
    "\n",
    "# --- baseline: 纯 Python 双层 for ---\n",
    "def elem2d_py(A, B, D):\n",
    "    M, N = A.shape\n",
    "    C = np.empty((M, N), np.float64)\n",
    "    for i in range(M):\n",
    "        for j in range(N):\n",
    "            C[i,j] = 1.0/(1.0+math.exp(-A[i,j])) + B[i,3] - math.log(D[2,j])\n",
    "    return C\n",
    "\n",
    "# --- 测试数据 ---\n",
    "M, N = 500, 600\n",
    "rng = np.random.default_rng(0)\n",
    "A = rng.normal(size=(M, N))\n",
    "B = rng.normal(size=(M, N))\n",
    "# 更稳妥：保证 > 0\n",
    "D = rng.lognormal(mean=0.6, sigma=0.3, size=(M, N))\n",
    "\n",
    "# --- 正确性检查 ---\n",
    "C0 = elem2d_py(A, B, D)\n",
    "C1 = elem2d(A, B, D, 8)   # ✅ 只传数组 + 线程数\n",
    "print(\"equal:\", np.allclose(C0, C1, rtol=1e-10, atol=1e-12))\n",
    "\n",
    "# --- 性能测试 ---\n",
    "repeats = 3\n",
    "t_base = timeit.timeit(lambda: elem2d_py(A, B, D), number=repeats)/repeats\n",
    "t_opt  = timeit.timeit(lambda: elem2d(A, B, D, 8),    number=repeats)/repeats\n",
    "print(f\"Baseline 平均时间: {t_base:.6f}s\")\n",
    "print(f\"Optimized 平均时间: {t_opt:.6f}s\")\n",
    "print(f\"加速比: {t_base/t_opt:.2f}×\")\n"
   ]
  },
  {
   "cell_type": "markdown",
   "metadata": {},
   "source": [
    "111111111"
   ]
  },
  {
   "cell_type": "code",
   "execution_count": 59,
   "metadata": {},
   "outputs": [
    {
     "name": "stdout",
     "output_type": "stream",
     "text": [
      "🔧 Cython + OpenMP 并行编译器 v2 (magic: %cython_openmp)\n",
      "📌 目标函数名: vector_norm_customret\n",
      "🧩 临时构建目录: C:\\Users\\xiong\\AppData\\Local\\Temp\\cython_omp__fi3ocix\n",
      "📐 prange 调度: static\n",
      "\n",
      "📄 生成的 Cython 并行代码如下：\n",
      "\n",
      "\n",
      "    # cython: boundscheck=False, wraparound=False, initializedcheck=False, nonecheck=False\n",
      "    # cython: cdivision=True, infer_types=True\n",
      "    from cython.parallel cimport prange, parallel\n",
      "    from openmp cimport omp_get_max_threads, omp_get_thread_num, omp_set_num_threads\n",
      "    from libc.math cimport sqrt, pow, fabs as c_fabs, exp as c_exp, log as c_log, sin as c_sin, cos as c_cos, tanh as c_tanh\n",
      "    cimport cython\n",
      "    import numpy as np\n",
      "    cimport numpy as np\n",
      "\n",
      "\n",
      "    def vector_norm_customret(int n, int num_threads=0):\n",
      "        cdef Py_ssize_t i, t, tid\n",
      "        cdef double total = 0.0\n",
      "        cdef int PAD = 16\n",
      "    \n",
      "        cdef int T = omp_get_max_threads()\n",
      "        cdef np.ndarray[np.double_t, ndim=1] _locals = np.zeros(T * PAD, dtype=np.float64)\n",
      "        cdef double[:] locals_mv = _locals\n",
      "        with nogil, parallel():\n",
      "            tid = omp_get_thread_num()\n",
      "            for i in prange(n, schedule=\"static\"):\n",
      "                locals_mv[tid * PAD] += ((i * 0.001) * (i * 0.001))\n",
      "        for t in range(T):\n",
      "            total += locals_mv[t * PAD]\n",
      "        return (1.0 / (1.0 + sqrt(total)))\n",
      "\n",
      "\n",
      "🔧 正在编译…（平台: win32, Python: 3.10.16）\n",
      "⚙️  编译成功。\n",
      "\n",
      "✅ 函数 `vector_norm_customret` 已并行加速并可直接使用！\n",
      "📌 用法示例: result = vector_norm_customret(1000000, num_threads=4)\n",
      "📦 扩展模块位于: c:\\Users\\xiong\\Desktop\\9.4brandnew_ast+openmp+cython\\.cython_openmp_cache\\vector_norm_customret_ed70e2d9.cp310-win_amd64.pyd\n"
     ]
    }
   ],
   "source": [
    "%%cython_openmp -n vector_norm_customret\n",
    "def vector_norm_customret(n=1000):\n",
    "    total = 0.0\n",
    "    for i in range(n):\n",
    "        total += (i * 0.001) * (i * 0.001)\n",
    "    # 这里不是单纯 sqrt(total)，而是更“随意”的返回表达式\n",
    "    return 1.0 / (1.0 + (total ** 0.5))\n"
   ]
  },
  {
   "cell_type": "code",
   "execution_count": 60,
   "metadata": {},
   "outputs": [
    {
     "name": "stdout",
     "output_type": "stream",
     "text": [
      "ref: 0.010433554636315135\n",
      "opt: 0.010433554636315139\n",
      "equal: True\n",
      "Baseline 平均时间: 0.000360s\n",
      "Optimized 平均时间: 0.000067s\n",
      "加速比: 5.35×\n"
     ]
    }
   ],
   "source": [
    "import math, timeit\n",
    "\n",
    "def baseline_vector_norm_customret(n=1000):\n",
    "    total = 0.0\n",
    "    for i in range(n):\n",
    "        total += (i * 0.001) * (i * 0.001)\n",
    "    return 1.0 / (1.0 + math.sqrt(total))\n",
    "\n",
    "# --- 正确性 ---\n",
    "n = 3000\n",
    "ref = baseline_vector_norm_customret(n)\n",
    "opt = vector_norm_customret(n, num_threads=8)\n",
    "print(\"ref:\", ref)\n",
    "print(\"opt:\", opt)\n",
    "print(\"equal:\", abs(ref - opt) < 1e-12)\n",
    "\n",
    "# --- 性能 ---\n",
    "repeats = 5\n",
    "t_base = timeit.timeit(lambda: baseline_vector_norm_customret(n), number=repeats) / repeats\n",
    "t_opt  = timeit.timeit(lambda: vector_norm_customret(n, num_threads=8), number=repeats) / repeats\n",
    "print(f\"Baseline 平均时间: {t_base:.6f}s\")\n",
    "print(f\"Optimized 平均时间: {t_opt:.6f}s\")\n",
    "print(f\"加速比: {t_base/t_opt:.2f}×\")\n"
   ]
  },
  {
   "cell_type": "code",
   "execution_count": 65,
   "metadata": {},
   "outputs": [
    {
     "name": "stdout",
     "output_type": "stream",
     "text": [
      "🔧 Cython + OpenMP 并行编译器 v2 (magic: %cython_openmp)\n",
      "📌 目标函数名: vector_norm_total\n",
      "🧩 临时构建目录: C:\\Users\\xiong\\AppData\\Local\\Temp\\cython_omp_eosvglmg\n",
      "📐 prange 调度: static\n",
      "\n",
      "📄 生成的 Cython 并行代码如下：\n",
      "\n",
      "\n",
      "    # cython: boundscheck=False, wraparound=False, initializedcheck=False, nonecheck=False\n",
      "    # cython: cdivision=True, infer_types=True\n",
      "    from cython.parallel cimport prange, parallel\n",
      "    from openmp cimport omp_get_max_threads, omp_get_thread_num, omp_set_num_threads\n",
      "    from libc.math cimport sqrt, pow, fabs as c_fabs, exp as c_exp, log as c_log\n",
      "    from libc.math cimport sin as c_sin, cos as c_cos, tanh as c_tanh\n",
      "    from libc.math cimport floor as c_floor, ceil as c_ceil\n",
      "    # erf/erfc 在多数 libm 可用；若平台无此符号，可注释下一行两项\n",
      "    from libc.math cimport erf as c_erf, erfc as c_erfc\n",
      "    cimport cython\n",
      "    import numpy as np\n",
      "    cimport numpy as np\n",
      "\n",
      "\n",
      "    def vector_norm_total(int n, double scale, int num_threads=0):\n",
      "        cdef Py_ssize_t i, t, tid\n",
      "        cdef double total = 0.0\n",
      "        cdef int PAD = 16\n",
      "    \n",
      "        cdef int T = omp_get_max_threads()\n",
      "        cdef np.ndarray[np.double_t, ndim=1] _locals = np.zeros(T * PAD, dtype=np.float64)\n",
      "        cdef double[:] locals_mv = _locals\n",
      "        with nogil, parallel():\n",
      "            tid = omp_get_thread_num()\n",
      "            for i in prange(n, schedule=\"static\"):\n",
      "                locals_mv[tid * PAD] += ((i * 0.001) * (i * 0.001))\n",
      "        for t in range(T):\n",
      "            total += locals_mv[t * PAD]\n",
      "        return (sqrt(total) * scale)\n",
      "\n",
      "\n",
      "🔧 正在编译…（平台: win32, Python: 3.10.16）\n",
      "⚙️  编译成功。\n",
      "\n",
      "✅ 函数 `vector_norm_total` 已并行加速并可直接使用！\n",
      "📌 用法示例: result = vector_norm_total(1000000, num_threads=4)\n",
      "📦 扩展模块位于: c:\\Users\\xiong\\Desktop\\9.4brandnew_ast+openmp+cython\\.cython_openmp_cache\\vector_norm_total_9e8f5b94.cp310-win_amd64.pyd\n"
     ]
    }
   ],
   "source": [
    "%%cython_openmp -n vector_norm_total\n",
    "def vector_norm_total(n=1000, scale=1.5):\n",
    "    total = 0.0\n",
    "    for i in range(n):\n",
    "        total += (i * 0.001) * (i * 0.001)\n",
    "    # return 里不只是 sqrt(total)，还引入了额外参数 scale\n",
    "    return (total ** 0.5) * scale\n"
   ]
  },
  {
   "cell_type": "code",
   "execution_count": 66,
   "metadata": {},
   "outputs": [],
   "source": [
    "import math\n",
    "\n",
    "def baseline_vector_norm_total(n=1000, scale=1.5):\n",
    "    total = 0.0\n",
    "    for i in range(n):\n",
    "        total += (i * 0.001) * (i * 0.001)\n",
    "    return math.sqrt(total) * scale\n"
   ]
  },
  {
   "cell_type": "code",
   "execution_count": 67,
   "metadata": {},
   "outputs": [
    {
     "name": "stdout",
     "output_type": "stream",
     "text": [
      "ref: 408.18705270990694\n",
      "opt: 408.18705270990665\n",
      "equal: True\n",
      "Baseline 平均时间: 0.000702s\n",
      "Optimized 平均时间: 0.000111s\n",
      "加速比: 6.31×\n"
     ]
    }
   ],
   "source": [
    "import timeit\n",
    "\n",
    "n = 5000\n",
    "scale = 2.0\n",
    "\n",
    "ref = baseline_vector_norm_total(n, scale)\n",
    "opt = vector_norm_total(n, scale, num_threads=8)\n",
    "print(\"ref:\", ref)\n",
    "print(\"opt:\", opt)\n",
    "print(\"equal:\", abs(ref - opt) < 1e-12)\n",
    "\n",
    "repeats = 5\n",
    "t_base = timeit.timeit(lambda: baseline_vector_norm_total(n, scale), number=repeats) / repeats\n",
    "t_opt  = timeit.timeit(lambda: vector_norm_total(n, scale, num_threads=8), number=repeats) / repeats\n",
    "print(f\"Baseline 平均时间: {t_base:.6f}s\")\n",
    "print(f\"Optimized 平均时间: {t_opt:.6f}s\")\n",
    "print(f\"加速比: {t_base/t_opt:.2f}×\")\n"
   ]
  },
  {
   "cell_type": "code",
   "execution_count": 74,
   "metadata": {},
   "outputs": [],
   "source": [
    "%reload_ext cython_openmp"
   ]
  },
  {
   "cell_type": "code",
   "execution_count": 75,
   "metadata": {},
   "outputs": [
    {
     "name": "stdout",
     "output_type": "stream",
     "text": [
      "🔧 Cython + OpenMP 并行编译器 v2 (magic: %cython_openmp)\n",
      "📌 目标函数名: reduce_demo\n",
      "🧩 临时构建目录: C:\\Users\\xiong\\AppData\\Local\\Temp\\cython_omp_dpude6ae\n",
      "📐 prange 调度: static\n"
     ]
    },
    {
     "ename": "NameError",
     "evalue": "name '_detect_matmul_generic' is not defined",
     "output_type": "error",
     "traceback": [
      "\u001b[1;31m---------------------------------------------------------------------------\u001b[0m",
      "\u001b[1;31mNameError\u001b[0m                                 Traceback (most recent call last)",
      "Cell \u001b[1;32mIn[75], line 1\u001b[0m\n\u001b[1;32m----> 1\u001b[0m \u001b[43mget_ipython\u001b[49m\u001b[43m(\u001b[49m\u001b[43m)\u001b[49m\u001b[38;5;241;43m.\u001b[39;49m\u001b[43mrun_cell_magic\u001b[49m\u001b[43m(\u001b[49m\u001b[38;5;124;43m'\u001b[39;49m\u001b[38;5;124;43mcython_openmp\u001b[39;49m\u001b[38;5;124;43m'\u001b[39;49m\u001b[43m,\u001b[49m\u001b[43m \u001b[49m\u001b[38;5;124;43m'\u001b[39;49m\u001b[38;5;124;43m-n reduce_demo\u001b[39;49m\u001b[38;5;124;43m'\u001b[39;49m\u001b[43m,\u001b[49m\u001b[43m \u001b[49m\u001b[38;5;124;43m'\u001b[39;49m\u001b[38;5;124;43mimport numpy as np\u001b[39;49m\u001b[38;5;130;43;01m\\n\u001b[39;49;00m\u001b[38;5;130;43;01m\\n\u001b[39;49;00m\u001b[38;5;124;43mdef reduce_demo():\u001b[39;49m\u001b[38;5;130;43;01m\\n\u001b[39;49;00m\u001b[38;5;124;43m    # 任意命名的归约变量（非 total/result）\u001b[39;49m\u001b[38;5;130;43;01m\\n\u001b[39;49;00m\u001b[38;5;124;43m    s = 0.0\u001b[39;49m\u001b[38;5;130;43;01m\\n\u001b[39;49;00m\u001b[38;5;124;43m    for i in range(n):\u001b[39;49m\u001b[38;5;130;43;01m\\n\u001b[39;49;00m\u001b[38;5;124;43m        # RHS 里用到额外标量 beta / gamma（不在尺寸表达式内）\u001b[39;49m\u001b[38;5;130;43;01m\\n\u001b[39;49;00m\u001b[38;5;124;43m        s += (i + beta) * (i - gamma)\u001b[39;49m\u001b[38;5;130;43;01m\\n\u001b[39;49;00m\u001b[38;5;124;43m    # return 里再用到 alpha（同样会被自动加入签名）\u001b[39;49m\u001b[38;5;130;43;01m\\n\u001b[39;49;00m\u001b[38;5;124;43m    return sqrt(s / (n + alpha))\u001b[39;49m\u001b[38;5;130;43;01m\\n\u001b[39;49;00m\u001b[38;5;124;43m'\u001b[39;49m\u001b[43m)\u001b[49m\n",
      "File \u001b[1;32mc:\\Users\\xiong\\.conda\\envs\\cython_env\\lib\\site-packages\\IPython\\core\\interactiveshell.py:2543\u001b[0m, in \u001b[0;36mInteractiveShell.run_cell_magic\u001b[1;34m(self, magic_name, line, cell)\u001b[0m\n\u001b[0;32m   2541\u001b[0m \u001b[38;5;28;01mwith\u001b[39;00m \u001b[38;5;28mself\u001b[39m\u001b[38;5;241m.\u001b[39mbuiltin_trap:\n\u001b[0;32m   2542\u001b[0m     args \u001b[38;5;241m=\u001b[39m (magic_arg_s, cell)\n\u001b[1;32m-> 2543\u001b[0m     result \u001b[38;5;241m=\u001b[39m fn(\u001b[38;5;241m*\u001b[39margs, \u001b[38;5;241m*\u001b[39m\u001b[38;5;241m*\u001b[39mkwargs)\n\u001b[0;32m   2545\u001b[0m \u001b[38;5;66;03m# The code below prevents the output from being displayed\u001b[39;00m\n\u001b[0;32m   2546\u001b[0m \u001b[38;5;66;03m# when using magics with decorator @output_can_be_silenced\u001b[39;00m\n\u001b[0;32m   2547\u001b[0m \u001b[38;5;66;03m# when the last Python token in the expression is a ';'.\u001b[39;00m\n\u001b[0;32m   2548\u001b[0m \u001b[38;5;28;01mif\u001b[39;00m \u001b[38;5;28mgetattr\u001b[39m(fn, magic\u001b[38;5;241m.\u001b[39mMAGIC_OUTPUT_CAN_BE_SILENCED, \u001b[38;5;28;01mFalse\u001b[39;00m):\n",
      "File \u001b[1;32mc:\\Users\\xiong\\Desktop\\9.4brandnew_ast+openmp+cython\\cython_openmp.py:187\u001b[0m, in \u001b[0;36mCythonOpenMPMagics.cython_openmp\u001b[1;34m(self, line, cell)\u001b[0m\n\u001b[0;32m    184\u001b[0m     \u001b[38;5;28;01mraise\u001b[39;00m \u001b[38;5;167;01mRuntimeError\u001b[39;00m(\u001b[38;5;124m\"\u001b[39m\u001b[38;5;124mgenerate_cython_openmp_files.py 中未找到 convert_python_to_cython_omp_v2\u001b[39m\u001b[38;5;124m\"\u001b[39m)\n\u001b[0;32m    186\u001b[0m \u001b[38;5;28;01mtry\u001b[39;00m:\n\u001b[1;32m--> 187\u001b[0m     pyx_code \u001b[38;5;241m=\u001b[39m \u001b[43mconvert\u001b[49m\u001b[43m(\u001b[49m\u001b[43mcell\u001b[49m\u001b[43m,\u001b[49m\u001b[43m \u001b[49m\u001b[43mfunc_name\u001b[49m\u001b[38;5;241;43m=\u001b[39;49m\u001b[43mfunc_name\u001b[49m\u001b[43m,\u001b[49m\u001b[43m \u001b[49m\u001b[43mdefault_threads\u001b[49m\u001b[38;5;241;43m=\u001b[39;49m\u001b[43mdefault_threads\u001b[49m\u001b[43m,\u001b[49m\u001b[43m \u001b[49m\u001b[43mschedule\u001b[49m\u001b[38;5;241;43m=\u001b[39;49m\u001b[43mschedule\u001b[49m\u001b[43m)\u001b[49m\n\u001b[0;32m    188\u001b[0m \u001b[38;5;28;01mexcept\u001b[39;00m \u001b[38;5;167;01mTypeError\u001b[39;00m:\n\u001b[0;32m    189\u001b[0m     \u001b[38;5;66;03m# 兼容旧签名\u001b[39;00m\n\u001b[0;32m    190\u001b[0m     pyx_code \u001b[38;5;241m=\u001b[39m gen_mod\u001b[38;5;241m.\u001b[39mconvert_python_to_cython_omp(cell, func_name\u001b[38;5;241m=\u001b[39mfunc_name, default_threads\u001b[38;5;241m=\u001b[39mdefault_threads)\n",
      "File \u001b[1;32mc:\\Users\\xiong\\Desktop\\9.4brandnew_ast+openmp+cython\\generate_cython_openmp_files.py:2138\u001b[0m, in \u001b[0;36mconvert_python_to_cython_omp_v2\u001b[1;34m(py_func_code, func_name, default_threads, schedule)\u001b[0m\n\u001b[0;32m   2135\u001b[0m excludes \u001b[38;5;241m=\u001b[39m \u001b[38;5;28mset\u001b[39m(_DEF_EXCLUDES_STATIC) \u001b[38;5;241m|\u001b[39m \u001b[38;5;28mset\u001b[39m(an\u001b[38;5;241m.\u001b[39mimport_aliases)\n\u001b[0;32m   2137\u001b[0m \u001b[38;5;66;03m# 通用 GEMM（任意层序 + += / =C+C / 临时acc）\u001b[39;00m\n\u001b[1;32m-> 2138\u001b[0m mmg \u001b[38;5;241m=\u001b[39m \u001b[43m_detect_matmul_generic\u001b[49m(an\u001b[38;5;241m.\u001b[39mroot)\n\u001b[0;32m   2139\u001b[0m \u001b[38;5;28;01mif\u001b[39;00m mmg:\n\u001b[0;32m   2140\u001b[0m     \u001b[38;5;28;01mreturn\u001b[39;00m _gen_matmul_gemm_mkn(\n\u001b[0;32m   2141\u001b[0m         func_name, mmg[\u001b[38;5;124m\"\u001b[39m\u001b[38;5;124mA\u001b[39m\u001b[38;5;124m\"\u001b[39m], mmg[\u001b[38;5;124m\"\u001b[39m\u001b[38;5;124mB\u001b[39m\u001b[38;5;124m\"\u001b[39m], mmg[\u001b[38;5;124m\"\u001b[39m\u001b[38;5;124mC\u001b[39m\u001b[38;5;124m\"\u001b[39m],\n\u001b[0;32m   2142\u001b[0m         \u001b[38;5;124m\"\u001b[39m\u001b[38;5;124mM\u001b[39m\u001b[38;5;124m\"\u001b[39m, \u001b[38;5;124m\"\u001b[39m\u001b[38;5;124mK\u001b[39m\u001b[38;5;124m\"\u001b[39m, \u001b[38;5;124m\"\u001b[39m\u001b[38;5;124mN\u001b[39m\u001b[38;5;124m\"\u001b[39m,\n\u001b[0;32m   2143\u001b[0m         default_threads, schedule\n\u001b[0;32m   2144\u001b[0m     )\n",
      "\u001b[1;31mNameError\u001b[0m: name '_detect_matmul_generic' is not defined"
     ]
    }
   ],
   "source": [
    "%%cython_openmp -n reduce_demo\n",
    "import numpy as np\n",
    "\n",
    "def reduce_demo():\n",
    "    # 任意命名的归约变量（非 total/result）\n",
    "    s = 0.0\n",
    "    for i in range(n):\n",
    "        # RHS 里用到额外标量 beta / gamma（不在尺寸表达式内）\n",
    "        s += (i + beta) * (i - gamma)\n",
    "    # return 里再用到 alpha（同样会被自动加入签名）\n",
    "    return sqrt(s / (n + alpha))\n"
   ]
  }
 ],
 "metadata": {
  "kernelspec": {
   "display_name": "cython_env",
   "language": "python",
   "name": "python3"
  },
  "language_info": {
   "codemirror_mode": {
    "name": "ipython",
    "version": 3
   },
   "file_extension": ".py",
   "mimetype": "text/x-python",
   "name": "python",
   "nbconvert_exporter": "python",
   "pygments_lexer": "ipython3",
   "version": "3.10.16"
  }
 },
 "nbformat": 4,
 "nbformat_minor": 2
}
