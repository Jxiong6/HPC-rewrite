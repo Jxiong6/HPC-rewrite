{
 "cells": [
  {
   "cell_type": "code",
   "execution_count": 165,
   "metadata": {},
   "outputs": [],
   "source": [
    "%reload_ext cython_openmp"
   ]
  },
  {
   "cell_type": "markdown",
   "metadata": {},
   "source": [
    "111111111111111111111\n"
   ]
  },
  {
   "cell_type": "code",
   "execution_count": 166,
   "metadata": {},
   "outputs": [
    {
     "name": "stdout",
     "output_type": "stream",
     "text": [
      "🔧 Cython + OpenMP 并行编译器 v2 (magic: %cython_openmp)\n",
      "📌 目标函数名: parallel_ok_3d_loop\n",
      "🧩 临时构建目录: C:\\Users\\xiong\\AppData\\Local\\Temp\\cython_omp_cee_c7e6\n",
      "📐 prange 调度: static\n",
      "\n",
      "📄 生成的 Cython 并行代码如下：\n",
      "\n",
      "\n",
      "    # cython: boundscheck=False, wraparound=False, initializedcheck=False, nonecheck=False\n",
      "    # cython: cdivision=True, infer_types=True\n",
      "    from cython.parallel cimport prange, parallel\n",
      "    from openmp cimport omp_get_max_threads, omp_get_thread_num, omp_set_num_threads\n",
      "    from libc.math cimport sqrt, pow, fabs as c_fabs, exp as c_exp, log as c_log, sin as c_sin, cos as c_cos, tanh as c_tanh\n",
      "    cimport cython\n",
      "    import numpy as np\n",
      "    cimport numpy as np\n",
      "\n",
      "\n",
      "    def parallel_ok_3d_loop(int n, int num_threads=0):\n",
      "        cdef Py_ssize_t i, j, k, __t, __i, t, tid\n",
      "        cdef double result = 0.0\n",
      "        cdef int PAD = 16\n",
      "    \n",
      "        cdef int T = omp_get_max_threads()\n",
      "        cdef np.ndarray[np.double_t, ndim=1] _locals = np.zeros(T * PAD, dtype=np.float64)\n",
      "        cdef double[:] locals_mv = _locals\n",
      "\n",
      "        cdef Py_ssize_t __start = <Py_ssize_t>(0)\n",
      "        cdef Py_ssize_t __stop  = <Py_ssize_t>(n)\n",
      "        cdef Py_ssize_t __step  = <Py_ssize_t>(1)\n",
      "        cdef Py_ssize_t __len\n",
      "        if __step > 0:\n",
      "            if __stop <= __start:\n",
      "                __len = 0\n",
      "            else:\n",
      "                __len = ((__stop - __start) + __step - 1) // __step\n",
      "        else:\n",
      "            if __stop >= __start:\n",
      "                __len = 0\n",
      "            else:\n",
      "                __len = ((__start - __stop) + (-__step) - 1) // (-__step)\n",
      "        if __len == 0:\n",
      "            return result\n",
      "\n",
      "        with nogil, parallel():\n",
      "            tid = omp_get_thread_num()\n",
      "            for __t in prange(__len, schedule=\"static\"):\n",
      "                __i = __start + __t * __step\n",
      "                for j in range(n):\n",
      "                    for k in range(n):\n",
      "                        locals_mv[tid * PAD] += ((((__i) + j) + k) * 1e-06)\n",
      "        for t in range(T):\n",
      "            result += locals_mv[t * PAD]\n",
      "        return result\n",
      "\n",
      "\n",
      "🔧 正在编译…（平台: win32, Python: 3.10.16）\n",
      "⚙️  编译成功。\n",
      "\n",
      "✅ 函数 `parallel_ok_3d_loop` 已并行加速并可直接使用！\n",
      "📌 用法示例: result = parallel_ok_3d_loop(1000000, num_threads=4)\n",
      "📦 扩展模块位于: c:\\Users\\xiong\\Desktop\\9.4brandnew_ast+openmp+cython\\.cython_openmp_cache\\parallel_ok_3d_loop_4557ae29.cp310-win_amd64.pyd\n"
     ]
    }
   ],
   "source": [
    "%%cython_openmp -n parallel_ok_3d_loop\n",
    "import numpy as np\n",
    "\n",
    "def parallel_ok_3d_loop(n=50):\n",
    "    result = 0.0\n",
    "    for i in range(n):\n",
    "        for j in range(n):\n",
    "            for k in range(n):\n",
    "                result += (i + j + k) * 0.000001\n",
    "    return result"
   ]
  },
  {
   "cell_type": "code",
   "execution_count": 167,
   "metadata": {},
   "outputs": [],
   "source": [
    "import numpy as np\n",
    "\n",
    "def baseline_3d_loop(n=50):\n",
    "    result = 0.0\n",
    "    for i in range(n):\n",
    "        for j in range(n):\n",
    "            for k in range(n):\n",
    "                result += (i + j + k) * 0.000001\n",
    "    return result"
   ]
  },
  {
   "cell_type": "code",
   "execution_count": 168,
   "metadata": {},
   "outputs": [
    {
     "name": "stdout",
     "output_type": "stream",
     "text": [
      "true\n"
     ]
    }
   ],
   "source": [
    "n = 100\n",
    "ref = baseline_3d_loop(n)\n",
    "opt = parallel_ok_3d_loop(n)\n",
    "\n",
    "# 仅输出是否一致\n",
    "print(\"true\" if abs(ref - opt) < 1e-10 else \"false\")"
   ]
  },
  {
   "cell_type": "code",
   "execution_count": 169,
   "metadata": {},
   "outputs": [
    {
     "name": "stdout",
     "output_type": "stream",
     "text": [
      "Baseline 平均时间: 0.582544s\n",
      "Optimized 平均时间: 0.005665s\n",
      "加速比: 102.83×\n"
     ]
    }
   ],
   "source": [
    "import timeit\n",
    "\n",
    "n = 200\n",
    "repeats = 5\n",
    "\n",
    "t_base = timeit.timeit(lambda: baseline_3d_loop(n), number=repeats) / repeats\n",
    "t_opt  = timeit.timeit(lambda: parallel_ok_3d_loop(n,num_threads=4), number=repeats)  / repeats\n",
    "speedup = t_base / t_opt\n",
    "\n",
    "print(f\"Baseline 平均时间: {t_base:.6f}s\")\n",
    "print(f\"Optimized 平均时间: {t_opt:.6f}s\")\n",
    "print(f\"加速比: {speedup:.2f}×\")"
   ]
  },
  {
   "cell_type": "markdown",
   "metadata": {},
   "source": [
    "2222222222222222222"
   ]
  },
  {
   "cell_type": "code",
   "execution_count": 170,
   "metadata": {},
   "outputs": [
    {
     "name": "stdout",
     "output_type": "stream",
     "text": [
      "🔧 Cython + OpenMP 并行编译器 v2 (magic: %cython_openmp)\n",
      "📌 目标函数名: parallel_write_array\n",
      "🧩 临时构建目录: C:\\Users\\xiong\\AppData\\Local\\Temp\\cython_omp_k4j3a1kz\n",
      "📐 prange 调度: static\n",
      "\n",
      "📄 生成的 Cython 并行代码如下：\n",
      "\n",
      "\n",
      "    # cython: boundscheck=False, wraparound=False, initializedcheck=False, nonecheck=False\n",
      "    # cython: cdivision=True, infer_types=True\n",
      "    from cython.parallel cimport prange, parallel\n",
      "    from openmp cimport omp_get_max_threads, omp_get_thread_num, omp_set_num_threads\n",
      "    from libc.math cimport sqrt, pow, fabs as c_fabs, exp as c_exp, log as c_log, sin as c_sin, cos as c_cos, tanh as c_tanh\n",
      "    cimport cython\n",
      "    import numpy as np\n",
      "    cimport numpy as np\n",
      "\n",
      "\n",
      "    def parallel_write_array(int n, int num_threads=0):\n",
      "        cdef Py_ssize_t i, j\n",
      "        cdef np.ndarray[np.double_t, ndim=2] arr = np.empty((n, n), dtype=np.float64)\n",
      "        cdef double[:, ::1] arr_mv = arr\n",
      "        if num_threads > 0:\n",
      "            omp_set_num_threads(num_threads)\n",
      "        with nogil, parallel():\n",
      "            for i in prange(n, schedule=\"static\"):\n",
      "                for j in range(n):\n",
      "                    arr_mv[i, j] = (i + j)\n",
      "        return arr\n",
      "\n",
      "\n",
      "🔧 正在编译…（平台: win32, Python: 3.10.16）\n",
      "⚙️  编译成功。\n",
      "\n",
      "✅ 函数 `parallel_write_array` 已并行加速并可直接使用！\n",
      "📌 用法示例: result = parallel_write_array(1000000, num_threads=4)\n",
      "📦 扩展模块位于: c:\\Users\\xiong\\Desktop\\9.4brandnew_ast+openmp+cython\\.cython_openmp_cache\\parallel_write_array_397ca4db.cp310-win_amd64.pyd\n"
     ]
    }
   ],
   "source": [
    "%%cython_openmp -n parallel_write_array\n",
    "import numpy as np\n",
    "def parallel_write_array(n=100):\n",
    "    arr = np.zeros((n, n))\n",
    "    for i in range(n):\n",
    "        for j in range(n):\n",
    "            arr[i][j] = i + j\n",
    "    return arr"
   ]
  },
  {
   "cell_type": "code",
   "execution_count": 171,
   "metadata": {},
   "outputs": [],
   "source": [
    "import numpy as np\n",
    "\n",
    "def baseline_write_array(n=100):\n",
    "    arr = np.zeros((n, n))\n",
    "    for i in range(n):\n",
    "        for j in range(n):\n",
    "            arr[i][j] = i + j\n",
    "    return arr"
   ]
  },
  {
   "cell_type": "code",
   "execution_count": 172,
   "metadata": {},
   "outputs": [
    {
     "name": "stdout",
     "output_type": "stream",
     "text": [
      "[[  0.   1.   2. ...  97.  98.  99.]\n",
      " [  1.   2.   3. ...  98.  99. 100.]\n",
      " [  2.   3.   4. ...  99. 100. 101.]\n",
      " ...\n",
      " [ 97.  98.  99. ... 194. 195. 196.]\n",
      " [ 98.  99. 100. ... 195. 196. 197.]\n",
      " [ 99. 100. 101. ... 196. 197. 198.]]\n",
      "[[  0.   1.   2. ...  97.  98.  99.]\n",
      " [  1.   2.   3. ...  98.  99. 100.]\n",
      " [  2.   3.   4. ...  99. 100. 101.]\n",
      " ...\n",
      " [ 97.  98.  99. ... 194. 195. 196.]\n",
      " [ 98.  99. 100. ... 195. 196. 197.]\n",
      " [ 99. 100. 101. ... 196. 197. 198.]]\n",
      "true\n"
     ]
    }
   ],
   "source": [
    "n = 100\n",
    "ref = baseline_write_array(n)\n",
    "opt = parallel_write_array(n)\n",
    "print(ref)\n",
    "print(opt)\n",
    "\n",
    "# 仅输出是否一致\n",
    "print(\"true\" if np.allclose(ref, opt) else \"false\")"
   ]
  },
  {
   "cell_type": "code",
   "execution_count": 173,
   "metadata": {},
   "outputs": [
    {
     "name": "stdout",
     "output_type": "stream",
     "text": [
      "Baseline 平均时间: 0.040908s\n",
      "Optimized 平均时间: 0.000234s\n",
      "加速比: 174.82×\n"
     ]
    }
   ],
   "source": [
    "import timeit\n",
    "\n",
    "\n",
    "n = 500\n",
    "repeats = 5\n",
    "\n",
    "t_base = timeit.timeit(lambda: baseline_write_array(n), number=repeats) / repeats\n",
    "t_opt  = timeit.timeit(lambda: parallel_write_array(n,num_threads=4), number=repeats)  / repeats\n",
    "speedup = t_base / t_opt\n",
    "\n",
    "print(f\"Baseline 平均时间: {t_base:.6f}s\")\n",
    "print(f\"Optimized 平均时间: {t_opt:.6f}s\")\n",
    "print(f\"加速比: {speedup:.2f}×\")"
   ]
  },
  {
   "cell_type": "markdown",
   "metadata": {},
   "source": [
    "3333333333333333333333333"
   ]
  },
  {
   "cell_type": "code",
   "execution_count": 174,
   "metadata": {},
   "outputs": [
    {
     "name": "stdout",
     "output_type": "stream",
     "text": [
      "🔧 Cython + OpenMP 并行编译器 v2 (magic: %cython_openmp)\n",
      "📌 目标函数名: compute_squares1\n",
      "🧩 临时构建目录: C:\\Users\\xiong\\AppData\\Local\\Temp\\cython_omp_n91la8m1\n",
      "📐 prange 调度: static\n",
      "\n",
      "📄 生成的 Cython 并行代码如下：\n",
      "\n",
      "\n",
      "    # cython: boundscheck=False, wraparound=False, initializedcheck=False, nonecheck=False\n",
      "    # cython: cdivision=True, infer_types=True\n",
      "    from cython.parallel cimport prange, parallel\n",
      "    from openmp cimport omp_get_max_threads, omp_get_thread_num, omp_set_num_threads\n",
      "    from libc.math cimport sqrt, pow, fabs as c_fabs, exp as c_exp, log as c_log, sin as c_sin, cos as c_cos, tanh as c_tanh\n",
      "    cimport cython\n",
      "    import numpy as np\n",
      "    cimport numpy as np\n",
      "\n",
      "\n",
      "    def compute_squares1(np.ndarray[np.double_t, ndim=1] a, int num_threads=0):\n",
      "        cdef Py_ssize_t i, n\n",
      "        if a.dtype != np.float64 or not a.flags.c_contiguous:\n",
      "            raise ValueError(\"a must be float64 and C-contiguous\")\n",
      "\n",
      "        n = a.shape[0]\n",
      "        cdef np.ndarray[np.double_t, ndim=1] out = np.empty(n, dtype=np.float64)\n",
      "        cdef const double[:] a_mv = a\n",
      "        cdef double[:] out_mv = out\n",
      "    \n",
      "        if n < 50000 or num_threads == 1:\n",
      "            for i in range(n):\n",
      "                out_mv[i] = (a_mv[i] * a_mv[i])\n",
      "        else:\n",
      "            if num_threads > 0:\n",
      "                omp_set_num_threads(num_threads)\n",
      "            with nogil, parallel():\n",
      "                for i in prange(n, schedule=\"static\"):\n",
      "                    out_mv[i] = (a_mv[i] * a_mv[i])\n",
      "        return out\n",
      "\n",
      "\n",
      "🔧 正在编译…（平台: win32, Python: 3.10.16）\n",
      "⚙️  编译成功。\n",
      "\n",
      "✅ 函数 `compute_squares1` 已并行加速并可直接使用！\n",
      "📌 用法示例: result = compute_squares1(1000000, num_threads=4)\n",
      "📦 扩展模块位于: c:\\Users\\xiong\\Desktop\\9.4brandnew_ast+openmp+cython\\.cython_openmp_cache\\compute_squares1_f07cb0bd.cp310-win_amd64.pyd\n"
     ]
    }
   ],
   "source": [
    "%%cython_openmp -n compute_squares1\n",
    "def compute_squares1(a):\n",
    "    return [x * x for x in a]\n"
   ]
  },
  {
   "cell_type": "code",
   "execution_count": 175,
   "metadata": {},
   "outputs": [],
   "source": [
    "def compute_squares1_py(data):\n",
    "    return [x * x for x in data]"
   ]
  },
  {
   "cell_type": "code",
   "execution_count": 176,
   "metadata": {},
   "outputs": [
    {
     "name": "stdout",
     "output_type": "stream",
     "text": [
      "Python result: [1, 4, 9, 16, 25]\n",
      "Cython result: [ 1.  4.  9. 16. 25.]\n",
      "Equal? [ True  True  True  True  True]\n"
     ]
    }
   ],
   "source": [
    "data = [1, 2, 3, 4, 5]\n",
    "import numpy as np\n",
    "data_np = np.array(data, dtype=np.float64)\n",
    "\n",
    "# 调用并对比结果\n",
    "res_py = compute_squares1_py(data)\n",
    "res_cy = compute_squares1(data_np)\n",
    "\n",
    "print(\"Python result:\", res_py)\n",
    "print(\"Cython result:\", res_cy)\n",
    "print(\"Equal?\", res_py == res_cy)"
   ]
  },
  {
   "cell_type": "code",
   "execution_count": 177,
   "metadata": {},
   "outputs": [
    {
     "name": "stdout",
     "output_type": "stream",
     "text": [
      "Python baseline: 0.572 s\n",
      "Cython+OpenMP:  0.009 s\n",
      "加速比: 61.72×\n"
     ]
    }
   ],
   "source": [
    "import numpy as np, time\n",
    "\n",
    "# 输入规模：1千万元素（~80MB double数组）\n",
    "N = 10000000\n",
    "data_list = list(range(N))                # 纯 Python list\n",
    "data_np   = np.arange(N, dtype=np.float64)  # NumPy array\n",
    "\n",
    "# baseline (Python 列表推导)\n",
    "t0 = time.perf_counter()\n",
    "compute_squares1_py(data_list)\n",
    "t1 = time.perf_counter()\n",
    "t_baseline=t1- t0\n",
    "print(f\"Python baseline: {t1 - t0:.3f} s\")\n",
    "\n",
    "# 并行 Cython+OpenMP (8 线程)\n",
    "t0 = time.perf_counter()\n",
    "compute_squares1(data_np, num_threads=8)\n",
    "t1 = time.perf_counter()\n",
    "t_cython_omp=t1-t0\n",
    "print(f\"Cython+OpenMP:  {t1 - t0:.3f} s\")\n",
    "print(f\"加速比: {t_baseline / t_cython_omp:.2f}×\")\n",
    "\n",
    "\n"
   ]
  },
  {
   "cell_type": "markdown",
   "metadata": {},
   "source": [
    "444444444444444444"
   ]
  },
  {
   "cell_type": "code",
   "execution_count": 178,
   "metadata": {},
   "outputs": [
    {
     "name": "stdout",
     "output_type": "stream",
     "text": [
      "🔧 Cython + OpenMP 并行编译器 v2 (magic: %cython_openmp)\n",
      "📌 目标函数名: parallel_ok_3d_loop\n",
      "🧩 临时构建目录: C:\\Users\\xiong\\AppData\\Local\\Temp\\cython_omp_cc1ns6p3\n",
      "📐 prange 调度: static\n",
      "\n",
      "📄 生成的 Cython 并行代码如下：\n",
      "\n",
      "\n",
      "    # cython: boundscheck=False, wraparound=False, initializedcheck=False, nonecheck=False\n",
      "    # cython: cdivision=True, infer_types=True\n",
      "    from cython.parallel cimport prange, parallel\n",
      "    from openmp cimport omp_get_max_threads, omp_get_thread_num, omp_set_num_threads\n",
      "    from libc.math cimport sqrt, pow, fabs as c_fabs, exp as c_exp, log as c_log, sin as c_sin, cos as c_cos, tanh as c_tanh\n",
      "    cimport cython\n",
      "    import numpy as np\n",
      "    cimport numpy as np\n",
      "\n",
      "\n",
      "    def parallel_ok_3d_loop(int n, int num_threads=0):\n",
      "        cdef Py_ssize_t i, j, k, __t, __i, t, tid\n",
      "        cdef double result = 0.0\n",
      "        cdef int PAD = 16\n",
      "    \n",
      "        cdef int T = omp_get_max_threads()\n",
      "        cdef np.ndarray[np.double_t, ndim=1] _locals = np.zeros(T * PAD, dtype=np.float64)\n",
      "        cdef double[:] locals_mv = _locals\n",
      "\n",
      "        cdef Py_ssize_t __start = <Py_ssize_t>(0)\n",
      "        cdef Py_ssize_t __stop  = <Py_ssize_t>(n)\n",
      "        cdef Py_ssize_t __step  = <Py_ssize_t>(1)\n",
      "        cdef Py_ssize_t __len\n",
      "        if __step > 0:\n",
      "            if __stop <= __start:\n",
      "                __len = 0\n",
      "            else:\n",
      "                __len = ((__stop - __start) + __step - 1) // __step\n",
      "        else:\n",
      "            if __stop >= __start:\n",
      "                __len = 0\n",
      "            else:\n",
      "                __len = ((__start - __stop) + (-__step) - 1) // (-__step)\n",
      "        if __len == 0:\n",
      "            return result\n",
      "\n",
      "        with nogil, parallel():\n",
      "            tid = omp_get_thread_num()\n",
      "            for __t in prange(__len, schedule=\"static\"):\n",
      "                __i = __start + __t * __step\n",
      "                for j in range(n):\n",
      "                    for k in range(n):\n",
      "                        if ((((((__i) + j) + k) * (((__i) - j) + k)) > 0)):\n",
      "                            locals_mv[tid * PAD] += sqrt(((((__i) + j) + k) * (((__i) - j) + k)))\n",
      "        for t in range(T):\n",
      "            result += locals_mv[t * PAD]\n",
      "        return result\n",
      "\n",
      "\n",
      "🔧 正在编译…（平台: win32, Python: 3.10.16）\n",
      "⚙️  编译成功。\n",
      "\n",
      "✅ 函数 `parallel_ok_3d_loop` 已并行加速并可直接使用！\n",
      "📌 用法示例: result = parallel_ok_3d_loop(1000000, num_threads=4)\n",
      "📦 扩展模块位于: c:\\Users\\xiong\\Desktop\\9.4brandnew_ast+openmp+cython\\.cython_openmp_cache\\parallel_ok_3d_loop_d4cef501.cp310-win_amd64.pyd\n"
     ]
    }
   ],
   "source": [
    "%%cython_openmp -n parallel_ok_3d_loop\n",
    "def parallel_ok_3d_loop(n=100):\n",
    "    result = 0.0\n",
    "    for i in range(n):\n",
    "        for j in range(n):\n",
    "            for k in range(n):\n",
    "                temp = (i + j + k) * (i - j + k)\n",
    "                if temp > 0:\n",
    "                    result += temp ** 0.5\n",
    "    return result"
   ]
  },
  {
   "cell_type": "code",
   "execution_count": 179,
   "metadata": {},
   "outputs": [],
   "source": [
    "def baseline_ok_3d_loop(n=100):\n",
    "    result = 0.0\n",
    "    for i in range(n):\n",
    "        for j in range(n):\n",
    "            for k in range(n):\n",
    "                temp = (i + j + k) * (i - j + k)\n",
    "                if temp > 0:\n",
    "                    result += temp ** 0.5\n",
    "    return result"
   ]
  },
  {
   "cell_type": "code",
   "execution_count": 180,
   "metadata": {},
   "outputs": [
    {
     "name": "stdout",
     "output_type": "stream",
     "text": [
      "78126227.34051621\n",
      "78126227.34050924\n",
      "true\n"
     ]
    }
   ],
   "source": [
    "n = 100\n",
    "ref = baseline_ok_3d_loop(n)\n",
    "opt = parallel_ok_3d_loop(n)\n",
    "print(ref)\n",
    "print(opt)\n",
    "\n",
    "print(\"true\" if abs(ref - opt) < 1e-5 else \"false\")"
   ]
  },
  {
   "cell_type": "code",
   "execution_count": 31,
   "metadata": {},
   "outputs": [
    {
     "name": "stdout",
     "output_type": "stream",
     "text": [
      "Baseline 平均时间: 5.405891s\n",
      "Optimized 平均时间: 0.012614s\n",
      "加速比: 428.55×\n"
     ]
    }
   ],
   "source": [
    "import timeit\n",
    "\n",
    "n = 300\n",
    "repeats = 5\n",
    "\n",
    "t_base = timeit.timeit(lambda: baseline_ok_3d_loop(n), number=repeats) / repeats\n",
    "t_opt  = timeit.timeit(lambda: parallel_ok_3d_loop(n, num_threads=8), number=repeats)  / repeats\n",
    "speedup = t_base / t_opt\n",
    "\n",
    "print(f\"Baseline 平均时间: {t_base:.6f}s\")\n",
    "print(f\"Optimized 平均时间: {t_opt:.6f}s\")\n",
    "print(f\"加速比: {speedup:.2f}×\")"
   ]
  },
  {
   "cell_type": "markdown",
   "metadata": {},
   "source": [
    "55555555555555555555555"
   ]
  },
  {
   "cell_type": "code",
   "execution_count": 181,
   "metadata": {},
   "outputs": [
    {
     "name": "stdout",
     "output_type": "stream",
     "text": [
      "🔧 Cython + OpenMP 并行编译器 v2 (magic: %cython_openmp)\n",
      "📌 目标函数名: parallel_write_array\n",
      "🧩 临时构建目录: C:\\Users\\xiong\\AppData\\Local\\Temp\\cython_omp_h6desdvl\n",
      "📐 prange 调度: static\n",
      "\n",
      "📄 生成的 Cython 并行代码如下：\n",
      "\n",
      "\n",
      "    # cython: boundscheck=False, wraparound=False, initializedcheck=False, nonecheck=False\n",
      "    # cython: cdivision=True, infer_types=True\n",
      "    from cython.parallel cimport prange, parallel\n",
      "    from openmp cimport omp_get_max_threads, omp_get_thread_num, omp_set_num_threads\n",
      "    from libc.math cimport sqrt, pow, fabs as c_fabs, exp as c_exp, log as c_log, sin as c_sin, cos as c_cos, tanh as c_tanh\n",
      "    cimport cython\n",
      "    import numpy as np\n",
      "    cimport numpy as np\n",
      "\n",
      "\n",
      "    def parallel_write_array(int n, int num_threads=0):\n",
      "        cdef Py_ssize_t i, j\n",
      "        cdef np.ndarray[np.double_t, ndim=2] arr = np.empty((n, n), dtype=np.float64)\n",
      "        cdef double[:, ::1] arr_mv = arr\n",
      "        if num_threads > 0:\n",
      "            omp_set_num_threads(num_threads)\n",
      "        with nogil, parallel():\n",
      "            for i in prange(n, schedule=\"static\"):\n",
      "                for j in range(n):\n",
      "                    arr_mv[i, j] = (i + j)\n",
      "        return arr\n",
      "\n",
      "\n",
      "🔧 正在编译…（平台: win32, Python: 3.10.16）\n",
      "⚙️  编译成功。\n",
      "\n",
      "✅ 函数 `parallel_write_array` 已并行加速并可直接使用！\n",
      "📌 用法示例: result = parallel_write_array(1000000, num_threads=4)\n",
      "📦 扩展模块位于: c:\\Users\\xiong\\Desktop\\9.4brandnew_ast+openmp+cython\\.cython_openmp_cache\\parallel_write_array_beb48518.cp310-win_amd64.pyd\n"
     ]
    }
   ],
   "source": [
    "%%cython_openmp -n parallel_write_array\n",
    "import numpy as np\n",
    "\n",
    "def parallel_write_array(n=100):\n",
    "    arr = np.zeros((n, n))\n",
    "    for i in range(n):\n",
    "        for j in range(n):\n",
    "            arr[i][j] = i + j\n",
    "    return arr"
   ]
  },
  {
   "cell_type": "code",
   "execution_count": 182,
   "metadata": {},
   "outputs": [],
   "source": [
    "import numpy as np\n",
    "\n",
    "def baseline_write_array(n=100):\n",
    "    arr = np.zeros((n, n))\n",
    "    for i in range(n):\n",
    "        for j in range(n):\n",
    "            arr[i][j] = i + j\n",
    "    return arr"
   ]
  },
  {
   "cell_type": "code",
   "execution_count": 183,
   "metadata": {},
   "outputs": [
    {
     "name": "stdout",
     "output_type": "stream",
     "text": [
      "true\n"
     ]
    }
   ],
   "source": [
    "import numpy as np\n",
    "\n",
    "\n",
    "n = 100\n",
    "ref = baseline_write_array(n)\n",
    "opt = parallel_write_array(n)\n",
    "\n",
    "# 仅输出是否一致\n",
    "print(\"true\" if np.array_equal(ref, opt) else \"false\")"
   ]
  },
  {
   "cell_type": "code",
   "execution_count": 184,
   "metadata": {},
   "outputs": [
    {
     "name": "stdout",
     "output_type": "stream",
     "text": [
      "Baseline 平均时间: 0.013744s\n",
      "Optimized 平均时间: 0.000026s\n",
      "加速比: 523.76×\n"
     ]
    }
   ],
   "source": [
    "import timeit\n",
    "\n",
    "\n",
    "n = 300\n",
    "repeats = 5\n",
    "\n",
    "t_base = timeit.timeit(lambda: baseline_write_array(n), number=repeats) / repeats\n",
    "t_opt  = timeit.timeit(lambda: parallel_write_array(n,num_threads=8), number=repeats) / repeats\n",
    "speedup = t_base / t_opt\n",
    "\n",
    "print(f\"Baseline 平均时间: {t_base:.6f}s\")\n",
    "print(f\"Optimized 平均时间: {t_opt:.6f}s\")\n",
    "print(f\"加速比: {speedup:.2f}×\")"
   ]
  },
  {
   "cell_type": "markdown",
   "metadata": {},
   "source": [
    "66666666666666666666"
   ]
  },
  {
   "cell_type": "code",
   "execution_count": 185,
   "metadata": {},
   "outputs": [
    {
     "name": "stdout",
     "output_type": "stream",
     "text": [
      "🔧 Cython + OpenMP 并行编译器 v2 (magic: %cython_openmp)\n",
      "📌 目标函数名: vector_norm\n",
      "🧩 临时构建目录: C:\\Users\\xiong\\AppData\\Local\\Temp\\cython_omp_bpn45e7w\n",
      "📐 prange 调度: static\n",
      "\n",
      "📄 生成的 Cython 并行代码如下：\n",
      "\n",
      "\n",
      "    # cython: boundscheck=False, wraparound=False, initializedcheck=False, nonecheck=False\n",
      "    # cython: cdivision=True, infer_types=True\n",
      "    from cython.parallel cimport prange, parallel\n",
      "    from openmp cimport omp_get_max_threads, omp_get_thread_num, omp_set_num_threads\n",
      "    from libc.math cimport sqrt, pow, fabs as c_fabs, exp as c_exp, log as c_log, sin as c_sin, cos as c_cos, tanh as c_tanh\n",
      "    cimport cython\n",
      "    import numpy as np\n",
      "    cimport numpy as np\n",
      "\n",
      "\n",
      "    def vector_norm(int n, int num_threads=0):\n",
      "        cdef Py_ssize_t __t, __i, t, tid\n",
      "        cdef double total = 0.0\n",
      "        cdef int PAD = 16\n",
      "    \n",
      "        cdef int T = omp_get_max_threads()\n",
      "        cdef np.ndarray[np.double_t, ndim=1] _locals = np.zeros(T * PAD, dtype=np.float64)\n",
      "        cdef double[:] locals_mv = _locals\n",
      "\n",
      "        cdef Py_ssize_t __start = <Py_ssize_t>(0)\n",
      "        cdef Py_ssize_t __stop  = <Py_ssize_t>(n)\n",
      "        cdef Py_ssize_t __step  = <Py_ssize_t>(1)\n",
      "        cdef Py_ssize_t __len\n",
      "        if __step > 0:\n",
      "            if __stop <= __start:\n",
      "                __len = 0\n",
      "            else:\n",
      "                __len = ((__stop - __start) + __step - 1) // __step\n",
      "        else:\n",
      "            if __stop >= __start:\n",
      "                __len = 0\n",
      "            else:\n",
      "                __len = ((__start - __stop) + (-__step) - 1) // (-__step)\n",
      "        if __len == 0:\n",
      "            return sqrt(total)\n",
      "\n",
      "        with nogil, parallel():\n",
      "            tid = omp_get_thread_num()\n",
      "            for __t in prange(__len, schedule=\"static\"):\n",
      "                __i = __start + __t * __step\n",
      "                locals_mv[tid * PAD] += ((((__i) * 0.001)) * (((__i) * 0.001)))\n",
      "\n",
      "        for t in range(T):\n",
      "            total += locals_mv[t * PAD]\n",
      "        return sqrt(total)\n",
      "\n",
      "\n",
      "🔧 正在编译…（平台: win32, Python: 3.10.16）\n",
      "⚙️  编译成功。\n",
      "\n",
      "✅ 函数 `vector_norm` 已并行加速并可直接使用！\n",
      "📌 用法示例: result = vector_norm(1000000, num_threads=4)\n",
      "📦 扩展模块位于: c:\\Users\\xiong\\Desktop\\9.4brandnew_ast+openmp+cython\\.cython_openmp_cache\\vector_norm_baae7e75.cp310-win_amd64.pyd\n"
     ]
    }
   ],
   "source": [
    "%%cython_openmp -n vector_norm\n",
    "def vector_norm(n=1000):\n",
    "    total = 0.0\n",
    "    for i in range(n):\n",
    "        total += ((i * 0.001) ** 2)\n",
    "    return total ** 0.5"
   ]
  },
  {
   "cell_type": "code",
   "execution_count": 186,
   "metadata": {},
   "outputs": [],
   "source": [
    "def baseline_vector_norm(n=1000):\n",
    "    total = 0.0\n",
    "    for i in range(n):\n",
    "        total += ((i * 0.001) ** 2)\n",
    "    return total ** 0.5"
   ]
  },
  {
   "cell_type": "code",
   "execution_count": 187,
   "metadata": {},
   "outputs": [
    {
     "name": "stdout",
     "output_type": "stream",
     "text": [
      "18.24372494859534\n",
      "18.24372494859534\n",
      "T\n"
     ]
    }
   ],
   "source": [
    "\n",
    "n = 1000\n",
    "ref = baseline_vector_norm(n)\n",
    "opt = vector_norm(n)\n",
    "print(ref)\n",
    "print(opt)\n",
    "\n",
    "tol = 1e-12\n",
    "print(\"T\" if abs(ref - opt) < tol else \"F\")"
   ]
  },
  {
   "cell_type": "code",
   "execution_count": 189,
   "metadata": {},
   "outputs": [
    {
     "name": "stdout",
     "output_type": "stream",
     "text": [
      "Baseline 平均时间: 0.000385s\n",
      "Optimized 平均时间: 0.000048s\n",
      "加速比: 8.11×\n"
     ]
    }
   ],
   "source": [
    "import timeit\n",
    "\n",
    "n = 3000\n",
    "repeats = 5\n",
    "\n",
    "t_base = timeit.timeit(lambda: baseline_vector_norm(n), number=repeats) / repeats\n",
    "t_opt  = timeit.timeit(lambda: vector_norm(n,num_threads=8), number=repeats)  / repeats\n",
    "speedup = t_base / t_opt\n",
    "\n",
    "print(f\"Baseline 平均时间: {t_base:.6f}s\")\n",
    "print(f\"Optimized 平均时间: {t_opt:.6f}s\")\n",
    "print(f\"加速比: {speedup:.2f}×\")"
   ]
  },
  {
   "cell_type": "markdown",
   "metadata": {},
   "source": [
    "777777777777777777777"
   ]
  },
  {
   "cell_type": "code",
   "execution_count": 190,
   "metadata": {},
   "outputs": [
    {
     "name": "stdout",
     "output_type": "stream",
     "text": [
      "🔧 Cython + OpenMP 并行编译器 v2 (magic: %cython_openmp)\n",
      "📌 目标函数名: matmul_nested\n",
      "🧩 临时构建目录: C:\\Users\\xiong\\AppData\\Local\\Temp\\cython_omp_anynz66_\n",
      "📐 prange 调度: static\n",
      "\n",
      "📄 生成的 Cython 并行代码如下：\n",
      "\n",
      "\n",
      "    # cython: boundscheck=False, wraparound=False, initializedcheck=False, nonecheck=False\n",
      "    # cython: cdivision=True, infer_types=True\n",
      "    from cython.parallel cimport prange, parallel\n",
      "    from openmp cimport omp_get_max_threads, omp_get_thread_num, omp_set_num_threads\n",
      "    from libc.math cimport sqrt, pow, fabs as c_fabs, exp as c_exp, log as c_log, sin as c_sin, cos as c_cos, tanh as c_tanh\n",
      "    cimport cython\n",
      "    import numpy as np\n",
      "    cimport numpy as np\n",
      "\n",
      "\n",
      "    def matmul_nested(np.ndarray[np.double_t, ndim=2] A,\n",
      "                    np.ndarray[np.double_t, ndim=2] B,\n",
      "                    int num_threads=0):\n",
      "        cdef Py_ssize_t M = A.shape[0]\n",
      "        cdef Py_ssize_t K = A.shape[1]\n",
      "        cdef Py_ssize_t N = B.shape[1]\n",
      "\n",
      "        if A.dtype != np.float64 or B.dtype != np.float64:\n",
      "            raise ValueError(\"A, B must be float64\")\n",
      "        if not A.flags.c_contiguous:\n",
      "            raise ValueError(\"A must be C-contiguous\")\n",
      "        if B.shape[0] != K:\n",
      "            raise ValueError(\"Shapes mismatch: A(M,K) x B(K,N)\")\n",
      "\n",
      "        cdef np.ndarray[np.double_t, ndim=2] BT = np.ascontiguousarray(B.T)\n",
      "        cdef np.ndarray[np.double_t, ndim=2] C = np.empty((M, N), dtype=np.float64)\n",
      "\n",
      "        cdef const double[:, ::1] A_mv = A\n",
      "        cdef const double[:, ::1] BT_mv = BT\n",
      "        cdef double[:, ::1] C_mv = C\n",
      "        cdef Py_ssize_t i, j\n",
      "\n",
      "        if num_threads > 0:\n",
      "            omp_set_num_threads(num_threads)\n",
      "\n",
      "        with nogil, parallel():\n",
      "            for i in prange(M, schedule=\"static\"):\n",
      "                for j in range(N):\n",
      "                    C_mv[i, j] = _dot_row_BTrow(A_mv, BT_mv, K, i, j)\n",
      "        return C\n",
      "\n",
      "    cdef inline double _dot_row_BTrow(const double[:, ::1] A_mv,\n",
      "                                      const double[:, ::1] BT_mv,\n",
      "                                      Py_ssize_t K,\n",
      "                                      Py_ssize_t i,\n",
      "                                      Py_ssize_t j) nogil:\n",
      "        cdef Py_ssize_t k\n",
      "        cdef double s = 0.0\n",
      "        for k in range(K):\n",
      "            s += A_mv[i, k] * BT_mv[j, k]\n",
      "        return s\n",
      "\n",
      "\n",
      "🔧 正在编译…（平台: win32, Python: 3.10.16）\n",
      "⚙️  编译成功。\n",
      "\n",
      "✅ 函数 `matmul_nested` 已并行加速并可直接使用！\n",
      "📌 用法示例: result = matmul_nested(1000000, num_threads=4)\n",
      "📦 扩展模块位于: c:\\Users\\xiong\\Desktop\\9.4brandnew_ast+openmp+cython\\.cython_openmp_cache\\matmul_nested_03afcf07.cp310-win_amd64.pyd\n"
     ]
    }
   ],
   "source": [
    "%%cython_openmp -n matmul_nested\n",
    "import numpy as np\n",
    "\n",
    "def matmul_nested(A, B):\n",
    "    N = A.shape[0]\n",
    "    C = np.zeros((N, N), np.float64)\n",
    "    for i in range(N):\n",
    "        for j in range(N):\n",
    "            for k in range(N):\n",
    "                C[i, j] += A[i, k] * B[k, j]\n",
    "    return C"
   ]
  },
  {
   "cell_type": "code",
   "execution_count": 191,
   "metadata": {},
   "outputs": [],
   "source": [
    "import numpy as np\n",
    "\n",
    "def matmul_py(A, B):\n",
    "    N = A.shape[0]\n",
    "    C = np.zeros((N, N))\n",
    "    for i in range(N):\n",
    "        for j in range(N):\n",
    "            for k in range(N):\n",
    "                C[i, j] += A[i, k] * B[k, j]\n",
    "    return C"
   ]
  },
  {
   "cell_type": "code",
   "execution_count": 192,
   "metadata": {},
   "outputs": [
    {
     "name": "stdout",
     "output_type": "stream",
     "text": [
      "Are they close?  True\n"
     ]
    }
   ],
   "source": [
    "import numpy as np\n",
    "\n",
    "# 生成测试矩阵\n",
    "N = 100\n",
    "A = np.random.rand(N, N)\n",
    "B = np.random.rand(N, N)\n",
    "\n",
    "# Python 版本计算\n",
    "C_py = matmul_py(A, B)\n",
    "\n",
    "# Cython 版本计算\n",
    "C_cy = matmul_nested(A, B)\n",
    "\n",
    "\n",
    "# 判断是否相等\n",
    "print(\"Are they close? \", np.allclose(C_py, C_cy, atol=1e-12))\n",
    "\n"
   ]
  },
  {
   "cell_type": "code",
   "execution_count": 193,
   "metadata": {},
   "outputs": [
    {
     "name": "stdout",
     "output_type": "stream",
     "text": [
      "Baseline 平均时间: 0.050135s\n",
      "Optimized 平均时间: 0.000082s\n",
      "加速比: 610.81×\n"
     ]
    }
   ],
   "source": [
    "N = 50\n",
    "A = np.random.rand(N, N)\n",
    "B = np.random.rand(N, N)\n",
    "repeats = 5\n",
    "\n",
    "# 基线计时\n",
    "t_base = timeit.timeit(lambda: matmul_py(A, B), number=repeats) / repeats\n",
    "# 优化版计时\n",
    "t_opt  = timeit.timeit(lambda: matmul_nested(A, B,num_threads=8), number=repeats)  / repeats\n",
    "speedup=t_base/t_opt\n",
    "print(f\"Baseline 平均时间: {t_base:.6f}s\")\n",
    "print(f\"Optimized 平均时间: {t_opt:.6f}s\")\n",
    "print(f\"加速比: {speedup:.2f}×\")"
   ]
  },
  {
   "cell_type": "markdown",
   "metadata": {},
   "source": [
    "7777777777777777777777777777"
   ]
  },
  {
   "cell_type": "code",
   "execution_count": 194,
   "metadata": {},
   "outputs": [
    {
     "name": "stdout",
     "output_type": "stream",
     "text": [
      "🔧 Cython + OpenMP 并行编译器 v2 (magic: %cython_openmp)\n",
      "📌 目标函数名: matmul_mkn\n",
      "🧩 临时构建目录: C:\\Users\\xiong\\AppData\\Local\\Temp\\cython_omp_4nhcb4hh\n",
      "📐 prange 调度: static\n",
      "\n",
      "📄 生成的 Cython 并行代码如下：\n",
      "\n",
      "\n",
      "    # cython: boundscheck=False, wraparound=False, initializedcheck=False, nonecheck=False\n",
      "    # cython: cdivision=True, infer_types=True\n",
      "    from cython.parallel cimport prange, parallel\n",
      "    from openmp cimport omp_get_max_threads, omp_get_thread_num, omp_set_num_threads\n",
      "    from libc.math cimport sqrt, pow, fabs as c_fabs, exp as c_exp, log as c_log, sin as c_sin, cos as c_cos, tanh as c_tanh\n",
      "    cimport cython\n",
      "    import numpy as np\n",
      "    cimport numpy as np\n",
      "\n",
      "\n",
      "    def matmul_mkn(np.ndarray[np.double_t, ndim=2] A,\n",
      "                    np.ndarray[np.double_t, ndim=2] B,\n",
      "                    int num_threads=0):\n",
      "        cdef Py_ssize_t M = A.shape[0]\n",
      "        cdef Py_ssize_t K = A.shape[1]\n",
      "        cdef Py_ssize_t N = B.shape[1]\n",
      "\n",
      "        if A.dtype != np.float64 or B.dtype != np.float64:\n",
      "            raise ValueError(\"A, B must be float64\")\n",
      "        if not A.flags.c_contiguous:\n",
      "            raise ValueError(\"A must be C-contiguous\")\n",
      "        if B.shape[0] != K:\n",
      "            raise ValueError(\"Shapes mismatch: A(M,K) x B(K,N)\")\n",
      "\n",
      "        cdef np.ndarray[np.double_t, ndim=2] BT = np.ascontiguousarray(B.T)\n",
      "        cdef np.ndarray[np.double_t, ndim=2] C = np.empty((M, N), dtype=np.float64)\n",
      "\n",
      "        cdef const double[:, ::1] A_mv = A\n",
      "        cdef const double[:, ::1] BT_mv = BT\n",
      "        cdef double[:, ::1] C_mv = C\n",
      "        cdef Py_ssize_t i, j\n",
      "\n",
      "        if num_threads > 0:\n",
      "            omp_set_num_threads(num_threads)\n",
      "\n",
      "        with nogil, parallel():\n",
      "            for i in prange(M, schedule=\"static\"):\n",
      "                for j in range(N):\n",
      "                    C_mv[i, j] = _dot_row_BTrow(A_mv, BT_mv, K, i, j)\n",
      "        return C\n",
      "\n",
      "    cdef inline double _dot_row_BTrow(const double[:, ::1] A_mv,\n",
      "                                      const double[:, ::1] BT_mv,\n",
      "                                      Py_ssize_t K,\n",
      "                                      Py_ssize_t i,\n",
      "                                      Py_ssize_t j) nogil:\n",
      "        cdef Py_ssize_t k\n",
      "        cdef double s = 0.0\n",
      "        for k in range(K):\n",
      "            s += A_mv[i, k] * BT_mv[j, k]\n",
      "        return s\n",
      "\n",
      "\n",
      "🔧 正在编译…（平台: win32, Python: 3.10.16）\n",
      "⚙️  编译成功。\n",
      "\n",
      "✅ 函数 `matmul_mkn` 已并行加速并可直接使用！\n",
      "📌 用法示例: result = matmul_mkn(1000000, num_threads=4)\n",
      "📦 扩展模块位于: c:\\Users\\xiong\\Desktop\\9.4brandnew_ast+openmp+cython\\.cython_openmp_cache\\matmul_mkn_b8394280.cp310-win_amd64.pyd\n"
     ]
    }
   ],
   "source": [
    "%%cython_openmp -n matmul_mkn\n",
    "import numpy as np\n",
    "\n",
    "def matmul_mkn(A, B):\n",
    "    M = A.shape[0]\n",
    "    K = A.shape[1]\n",
    "    N = B.shape[1]\n",
    "    C = np.zeros((M, N), np.float64)\n",
    "    for i in range(M):\n",
    "        for j in range(N):\n",
    "            for k in range(K):\n",
    "                C[i, j] += A[i, k] * B[k, j]\n",
    "    return C\n"
   ]
  },
  {
   "cell_type": "code",
   "execution_count": 195,
   "metadata": {},
   "outputs": [
    {
     "name": "stdout",
     "output_type": "stream",
     "text": [
      "allclose?  True\n"
     ]
    }
   ],
   "source": [
    "import numpy as np\n",
    "M, K, N = 64, 128, 32\n",
    "A = np.ascontiguousarray(np.random.rand(M, K), dtype=np.float64)\n",
    "B = np.ascontiguousarray(np.random.rand(K, N), dtype=np.float64)\n",
    "\n",
    "C_py = A @ B\n",
    "C_cy = matmul_mkn(A, B)\n",
    "print(\"allclose? \", np.allclose(C_py, C_cy, atol=1e-12))\n"
   ]
  },
  {
   "cell_type": "code",
   "execution_count": 196,
   "metadata": {},
   "outputs": [],
   "source": [
    "import numpy as np\n",
    "import timeit\n",
    "\n",
    "def matmul_mkn_py(A, B):\n",
    "    M = A.shape[0]\n",
    "    K = A.shape[1]\n",
    "    N = B.shape[1]\n",
    "    C = np.zeros((M, N), np.float64)\n",
    "    for i in range(M):\n",
    "        for j in range(N):\n",
    "            for k in range(K):\n",
    "                C[i, j] += A[i, k] * B[k, j]\n",
    "    return C\n"
   ]
  },
  {
   "cell_type": "code",
   "execution_count": 197,
   "metadata": {},
   "outputs": [
    {
     "name": "stdout",
     "output_type": "stream",
     "text": [
      "M=200, K=300, N=150\n",
      "Baseline 平均时间: 3.463087s\n",
      "Optimized 平均时间: 0.001184s\n",
      "加速比: 2925.40×\n"
     ]
    }
   ],
   "source": [
    "# 参数设置\n",
    "M, K, N = 200, 300, 150   # 可改大一些\n",
    "A = np.ascontiguousarray(np.random.rand(M, K), dtype=np.float64)\n",
    "B = np.ascontiguousarray(np.random.rand(K, N), dtype=np.float64)\n",
    "\n",
    "repeats = 3\n",
    "\n",
    "# Python 版本计时\n",
    "t_base = timeit.timeit(lambda: matmul_mkn_py(A, B), number=repeats) / repeats\n",
    "\n",
    "# Cython+OpenMP 版本计时 (记得传 num_threads)\n",
    "t_opt  = timeit.timeit(lambda: matmul_mkn(A, B, num_threads=8), number=repeats) / repeats\n",
    "\n",
    "speedup = t_base / t_opt\n",
    "\n",
    "print(f\"M={M}, K={K}, N={N}\")\n",
    "print(f\"Baseline 平均时间: {t_base:.6f}s\")\n",
    "print(f\"Optimized 平均时间: {t_opt:.6f}s\")\n",
    "print(f\"加速比: {speedup:.2f}×\")\n"
   ]
  },
  {
   "cell_type": "markdown",
   "metadata": {},
   "source": [
    "888888888888888888"
   ]
  },
  {
   "cell_type": "code",
   "execution_count": 198,
   "metadata": {},
   "outputs": [
    {
     "name": "stdout",
     "output_type": "stream",
     "text": [
      "🔧 Cython + OpenMP 并行编译器 v2 (magic: %cython_openmp)\n",
      "📌 目标函数名: test_4d_loop_py\n",
      "🧩 临时构建目录: C:\\Users\\xiong\\AppData\\Local\\Temp\\cython_omp_zyg2br89\n",
      "📐 prange 调度: static\n",
      "\n",
      "📄 生成的 Cython 并行代码如下：\n",
      "\n",
      "\n",
      "    # cython: boundscheck=False, wraparound=False, initializedcheck=False, nonecheck=False\n",
      "    # cython: cdivision=True, infer_types=True\n",
      "    from cython.parallel cimport prange, parallel\n",
      "    from openmp cimport omp_get_max_threads, omp_get_thread_num, omp_set_num_threads\n",
      "    from libc.math cimport sqrt, pow, fabs as c_fabs, exp as c_exp, log as c_log, sin as c_sin, cos as c_cos, tanh as c_tanh\n",
      "    cimport cython\n",
      "    import numpy as np\n",
      "    cimport numpy as np\n",
      "\n",
      "\n",
      "    def test_4d_loop_py(int n, int num_threads=0):\n",
      "        cdef Py_ssize_t a, b, c, d, __t, __i, t, tid\n",
      "        cdef double result = 0.0\n",
      "        cdef int PAD = 16\n",
      "    \n",
      "        cdef int T = omp_get_max_threads()\n",
      "        cdef np.ndarray[np.double_t, ndim=1] _locals = np.zeros(T * PAD, dtype=np.float64)\n",
      "        cdef double[:] locals_mv = _locals\n",
      "\n",
      "        cdef Py_ssize_t __start = <Py_ssize_t>(0)\n",
      "        cdef Py_ssize_t __stop  = <Py_ssize_t>(n)\n",
      "        cdef Py_ssize_t __step  = <Py_ssize_t>(1)\n",
      "        cdef Py_ssize_t __len\n",
      "        if __step > 0:\n",
      "            if __stop <= __start:\n",
      "                __len = 0\n",
      "            else:\n",
      "                __len = ((__stop - __start) + __step - 1) // __step\n",
      "        else:\n",
      "            if __stop >= __start:\n",
      "                __len = 0\n",
      "            else:\n",
      "                __len = ((__start - __stop) + (-__step) - 1) // (-__step)\n",
      "        if __len == 0:\n",
      "            return result\n",
      "\n",
      "        with nogil, parallel():\n",
      "            tid = omp_get_thread_num()\n",
      "            for __t in prange(__len, schedule=\"static\"):\n",
      "                __i = __start + __t * __step\n",
      "                for b in range(n):\n",
      "                    for c in range(n):\n",
      "                        for d in range(n):\n",
      "                            locals_mv[tid * PAD] += ((((__i) + b) + c) + d)\n",
      "        for t in range(T):\n",
      "            result += locals_mv[t * PAD]\n",
      "        return result\n",
      "\n",
      "\n",
      "🔧 正在编译…（平台: win32, Python: 3.10.16）\n",
      "⚙️  编译成功。\n",
      "\n",
      "✅ 函数 `test_4d_loop_py` 已并行加速并可直接使用！\n",
      "📌 用法示例: result = test_4d_loop_py(1000000, num_threads=4)\n",
      "📦 扩展模块位于: c:\\Users\\xiong\\Desktop\\9.4brandnew_ast+openmp+cython\\.cython_openmp_cache\\test_4d_loop_py_012edaf3.cp310-win_amd64.pyd\n"
     ]
    }
   ],
   "source": [
    "%%cython_openmp -n test_4d_loop_py\n",
    "def test_4d_loop_py(n):\n",
    "    result = 0.0\n",
    "    for a in range(n):\n",
    "        for b in range(n):\n",
    "            for c in range(n):\n",
    "                for d in range(n):\n",
    "                    result += a + b + c + d\n",
    "    return result"
   ]
  },
  {
   "cell_type": "code",
   "execution_count": 199,
   "metadata": {},
   "outputs": [],
   "source": [
    "def test_4d_loop_py_baseline(n):\n",
    "    result = 0.0\n",
    "    for a in range(n):\n",
    "        for b in range(n):\n",
    "            for c in range(n):\n",
    "                for d in range(n):\n",
    "                    result += a + b + c + d\n",
    "    return result"
   ]
  },
  {
   "cell_type": "code",
   "execution_count": 200,
   "metadata": {},
   "outputs": [
    {
     "name": "stdout",
     "output_type": "stream",
     "text": [
      "t\n"
     ]
    }
   ],
   "source": [
    "n = 50\n",
    "ref = test_4d_loop_py_baseline(n)\n",
    "opt = test_4d_loop_py(n)\n",
    "\n",
    "# 仅输出是否一致\n",
    "tol = 1e-12\n",
    "print(\"t\" if abs(ref - opt) < tol else \"f\")"
   ]
  },
  {
   "cell_type": "code",
   "execution_count": 201,
   "metadata": {},
   "outputs": [
    {
     "name": "stdout",
     "output_type": "stream",
     "text": [
      "Baseline 平均时间: 0.411470s\n",
      "Optimized 平均时间: 0.002548s\n",
      "加速比: 161.48×\n"
     ]
    }
   ],
   "source": [
    "import timeit\n",
    "\n",
    "n = 50\n",
    "repeats = 3\n",
    "\n",
    "t_base = timeit.timeit(lambda: test_4d_loop_py_baseline(n), number=repeats) / repeats\n",
    "t_opt  = timeit.timeit(lambda: test_4d_loop_py(n, num_threads=8), number=repeats)  / repeats\n",
    "speedup = t_base / t_opt\n",
    "\n",
    "print(f\"Baseline 平均时间: {t_base:.6f}s\")\n",
    "print(f\"Optimized 平均时间: {t_opt:.6f}s\")\n",
    "print(f\"加速比: {speedup:.2f}×\")"
   ]
  },
  {
   "cell_type": "markdown",
   "metadata": {},
   "source": [
    "99999999999"
   ]
  },
  {
   "cell_type": "code",
   "execution_count": 202,
   "metadata": {},
   "outputs": [
    {
     "name": "stdout",
     "output_type": "stream",
     "text": [
      "🔧 Cython + OpenMP 并行编译器 v2 (magic: %cython_openmp)\n",
      "📌 目标函数名: matmul_mkn\n",
      "🧩 临时构建目录: C:\\Users\\xiong\\AppData\\Local\\Temp\\cython_omp_4wb2eszy\n",
      "📐 prange 调度: static\n",
      "\n",
      "📄 生成的 Cython 并行代码如下：\n",
      "\n",
      "\n",
      "    # cython: boundscheck=False, wraparound=False, initializedcheck=False, nonecheck=False\n",
      "    # cython: cdivision=True, infer_types=True\n",
      "    from cython.parallel cimport prange, parallel\n",
      "    from openmp cimport omp_get_max_threads, omp_get_thread_num, omp_set_num_threads\n",
      "    from libc.math cimport sqrt, pow, fabs as c_fabs, exp as c_exp, log as c_log, sin as c_sin, cos as c_cos, tanh as c_tanh\n",
      "    cimport cython\n",
      "    import numpy as np\n",
      "    cimport numpy as np\n",
      "\n",
      "\n",
      "    def matmul_mkn(np.ndarray[np.double_t, ndim=2] A,\n",
      "                    np.ndarray[np.double_t, ndim=2] B,\n",
      "                    int num_threads=0):\n",
      "        cdef Py_ssize_t M = A.shape[0]\n",
      "        cdef Py_ssize_t K = A.shape[1]\n",
      "        cdef Py_ssize_t N = B.shape[1]\n",
      "\n",
      "        if A.dtype != np.float64 or B.dtype != np.float64:\n",
      "            raise ValueError(\"A, B must be float64\")\n",
      "        if not A.flags.c_contiguous:\n",
      "            raise ValueError(\"A must be C-contiguous\")\n",
      "        if B.shape[0] != K:\n",
      "            raise ValueError(\"Shapes mismatch: A(M,K) x B(K,N)\")\n",
      "\n",
      "        cdef np.ndarray[np.double_t, ndim=2] BT = np.ascontiguousarray(B.T)\n",
      "        cdef np.ndarray[np.double_t, ndim=2] C = np.empty((M, N), dtype=np.float64)\n",
      "\n",
      "        cdef const double[:, ::1] A_mv = A\n",
      "        cdef const double[:, ::1] BT_mv = BT\n",
      "        cdef double[:, ::1] C_mv = C\n",
      "        cdef Py_ssize_t i, j\n",
      "\n",
      "        if num_threads > 0:\n",
      "            omp_set_num_threads(num_threads)\n",
      "\n",
      "        with nogil, parallel():\n",
      "            for i in prange(M, schedule=\"static\"):\n",
      "                for j in range(N):\n",
      "                    C_mv[i, j] = _dot_row_BTrow(A_mv, BT_mv, K, i, j)\n",
      "        return C\n",
      "\n",
      "    cdef inline double _dot_row_BTrow(const double[:, ::1] A_mv,\n",
      "                                      const double[:, ::1] BT_mv,\n",
      "                                      Py_ssize_t K,\n",
      "                                      Py_ssize_t i,\n",
      "                                      Py_ssize_t j) nogil:\n",
      "        cdef Py_ssize_t k\n",
      "        cdef double s = 0.0\n",
      "        for k in range(K):\n",
      "            s += A_mv[i, k] * BT_mv[j, k]\n",
      "        return s\n",
      "\n",
      "\n",
      "🔧 正在编译…（平台: win32, Python: 3.10.16）\n",
      "⚙️  编译成功。\n",
      "\n",
      "✅ 函数 `matmul_mkn` 已并行加速并可直接使用！\n",
      "📌 用法示例: result = matmul_mkn(1000000, num_threads=4)\n",
      "📦 扩展模块位于: c:\\Users\\xiong\\Desktop\\9.4brandnew_ast+openmp+cython\\.cython_openmp_cache\\matmul_mkn_67651d59.cp310-win_amd64.pyd\n"
     ]
    }
   ],
   "source": [
    "%%cython_openmp -n matmul_mkn\n",
    "import numpy as np\n",
    "def matmul_mkn(A, B):\n",
    "    M = A.shape[0]; K = A.shape[1]; N = B.shape[1]\n",
    "    C = np.zeros((M, N), np.float64)\n",
    "    for j in range(N):     # ← 故意换循环层序\n",
    "        for i in range(M):\n",
    "            acc = 0.0\n",
    "            for k in range(K):\n",
    "                acc += A[i, k] * B[k, j]\n",
    "            C[i, j] = acc\n",
    "    return C\n"
   ]
  },
  {
   "cell_type": "code",
   "execution_count": 203,
   "metadata": {},
   "outputs": [
    {
     "name": "stdout",
     "output_type": "stream",
     "text": [
      "equal: True\n",
      "Baseline 平均时间: 0.269047s\n",
      "Optimized 平均时间: 0.000181s\n",
      "加速比: 1487.00×\n"
     ]
    }
   ],
   "source": [
    "import numpy as np, timeit\n",
    "\n",
    "def matmul_mkn_py(A, B):\n",
    "    M, K = A.shape; N = B.shape[1]\n",
    "    C = np.zeros((M, N), np.float64)\n",
    "    for j in range(N):\n",
    "        for i in range(M):\n",
    "            acc = 0.0\n",
    "            for k in range(K):\n",
    "                acc += A[i, k] * B[k, j]\n",
    "            C[i, j] = acc\n",
    "    return C\n",
    "\n",
    "M, K, N = 120, 80, 100\n",
    "A = np.random.rand(M, K)\n",
    "B = np.random.rand(K, N)\n",
    "\n",
    "C0 = matmul_mkn_py(A, B)\n",
    "C1 = matmul_mkn(A, B, 8)   # 位置参数传线程数\n",
    "print(\"equal:\", np.allclose(C0, C1, rtol=1e-10, atol=1e-12))\n",
    "\n",
    "repeats = 3\n",
    "t_base = timeit.timeit(lambda: matmul_mkn_py(A, B), number=repeats)/repeats\n",
    "t_opt  = timeit.timeit(lambda: matmul_mkn(A, B, 8),   number=repeats)/repeats\n",
    "print(f\"Baseline 平均时间: {t_base:.6f}s\")\n",
    "print(f\"Optimized 平均时间: {t_opt:.6f}s\")\n",
    "print(f\"加速比: {t_base/t_opt:.2f}×\")\n"
   ]
  },
  {
   "cell_type": "markdown",
   "metadata": {},
   "source": [
    "100000"
   ]
  },
  {
   "cell_type": "code",
   "execution_count": 204,
   "metadata": {},
   "outputs": [
    {
     "name": "stdout",
     "output_type": "stream",
     "text": [
      "🔧 Cython + OpenMP 并行编译器 v2 (magic: %cython_openmp)\n",
      "📌 目标函数名: elem2d\n",
      "🧩 临时构建目录: C:\\Users\\xiong\\AppData\\Local\\Temp\\cython_omp_40ucazqa\n",
      "📐 prange 调度: static\n",
      "\n",
      "📄 生成的 Cython 并行代码如下：\n",
      "\n",
      "\n",
      "    # cython: boundscheck=False, wraparound=False, initializedcheck=False, nonecheck=False\n",
      "    # cython: cdivision=True, infer_types=True\n",
      "    from cython.parallel cimport prange, parallel\n",
      "    from openmp cimport omp_get_max_threads, omp_get_thread_num, omp_set_num_threads\n",
      "    from libc.math cimport sqrt, pow, fabs as c_fabs, exp as c_exp, log as c_log, sin as c_sin, cos as c_cos, tanh as c_tanh\n",
      "    cimport cython\n",
      "    import numpy as np\n",
      "    cimport numpy as np\n",
      "\n",
      "\n",
      "    def elem2d(np.ndarray[np.double_t, ndim=2] A, np.ndarray[np.double_t, ndim=2] B, np.ndarray[np.double_t, ndim=2] D, int num_threads=0):\n",
      "        cdef Py_ssize_t i, j\n",
      "        if A.dtype != np.float64 or not A.flags.c_contiguous:\n",
      "            raise ValueError(\"A must be float64 and C-contiguous\")\n",
      "        if B.dtype != np.float64 or not B.flags.c_contiguous:\n",
      "            raise ValueError(\"B must be float64 and C-contiguous\")\n",
      "        if D.dtype != np.float64 or not D.flags.c_contiguous:\n",
      "            raise ValueError(\"D must be float64 and C-contiguous\")\n",
      "\n",
      "        cdef Py_ssize_t M = A.shape[0]\n",
      "        cdef Py_ssize_t N = A.shape[1]\n",
      "        cdef np.ndarray[np.double_t, ndim=2] C = np.empty((M, N), dtype=np.float64)\n",
      "        cdef double[:, ::1] C_mv = C\n",
      "        cdef const double[:, ::1] A_mv = A\n",
      "        cdef const double[:, ::1] B_mv = B\n",
      "        cdef const double[:, ::1] D_mv = D\n",
      "        if num_threads > 0:\n",
      "            omp_set_num_threads(num_threads)\n",
      "        with nogil, parallel():\n",
      "            for i in prange(M, schedule=\"static\"):\n",
      "                for j in range(N):\n",
      "                    C_mv[i, j] = (((1.0 / (1.0 + c_exp(-(A_mv[i, j])))) + B_mv[i, 3]) - c_log(D_mv[2, j]))\n",
      "        return C\n",
      "\n",
      "\n",
      "🔧 正在编译…（平台: win32, Python: 3.10.16）\n",
      "⚙️  编译成功。\n",
      "\n",
      "✅ 函数 `elem2d` 已并行加速并可直接使用！\n",
      "📌 用法示例: result = elem2d(1000000, num_threads=4)\n",
      "📦 扩展模块位于: c:\\Users\\xiong\\Desktop\\9.4brandnew_ast+openmp+cython\\.cython_openmp_cache\\elem2d_1d830f46.cp310-win_amd64.pyd\n"
     ]
    }
   ],
   "source": [
    "%%cython_openmp -n elem2d\n",
    "import numpy as np\n",
    "def elem2d(A, B, D):\n",
    "    M, N = A.shape\n",
    "    C = np.empty((M, N), np.float64)\n",
    "    for i in range(M):\n",
    "        for j in range(N):\n",
    "            C[i,j] = 1.0/(1.0+np.exp(-A[i,j])) + B[i,3] - np.log(D[2,j])\n",
    "    return C\n"
   ]
  },
  {
   "cell_type": "code",
   "execution_count": 205,
   "metadata": {},
   "outputs": [
    {
     "name": "stdout",
     "output_type": "stream",
     "text": [
      "equal: True\n",
      "Baseline 平均时间: 0.242830s\n",
      "Optimized 平均时间: 0.000832s\n",
      "加速比: 291.89×\n"
     ]
    }
   ],
   "source": [
    "import numpy as np, timeit, math\n",
    "\n",
    "# --- baseline: 纯 Python 双层 for ---\n",
    "def elem2d_py(A, B, D):\n",
    "    M, N = A.shape\n",
    "    C = np.empty((M, N), np.float64)\n",
    "    for i in range(M):\n",
    "        for j in range(N):\n",
    "            C[i,j] = 1.0/(1.0+math.exp(-A[i,j])) + B[i,3] - math.log(D[2,j])\n",
    "    return C\n",
    "\n",
    "# --- 测试数据 ---\n",
    "M, N = 500, 600\n",
    "rng = np.random.default_rng(0)\n",
    "A = rng.normal(size=(M, N))\n",
    "B = rng.normal(size=(M, N))\n",
    "# 更稳妥：保证 > 0\n",
    "D = rng.lognormal(mean=0.6, sigma=0.3, size=(M, N))\n",
    "\n",
    "# --- 正确性检查 ---\n",
    "C0 = elem2d_py(A, B, D)\n",
    "C1 = elem2d(A, B, D, 8)   # ✅ 只传数组 + 线程数\n",
    "print(\"equal:\", np.allclose(C0, C1, rtol=1e-10, atol=1e-12))\n",
    "\n",
    "# --- 性能测试 ---\n",
    "repeats = 3\n",
    "t_base = timeit.timeit(lambda: elem2d_py(A, B, D), number=repeats)/repeats\n",
    "t_opt  = timeit.timeit(lambda: elem2d(A, B, D, 8),    number=repeats)/repeats\n",
    "print(f\"Baseline 平均时间: {t_base:.6f}s\")\n",
    "print(f\"Optimized 平均时间: {t_opt:.6f}s\")\n",
    "print(f\"加速比: {t_base/t_opt:.2f}×\")\n"
   ]
  },
  {
   "cell_type": "markdown",
   "metadata": {},
   "source": [
    "111111111"
   ]
  },
  {
   "cell_type": "code",
   "execution_count": 206,
   "metadata": {},
   "outputs": [
    {
     "name": "stdout",
     "output_type": "stream",
     "text": [
      "🔧 Cython + OpenMP 并行编译器 v2 (magic: %cython_openmp)\n",
      "📌 目标函数名: vector_norm_customret\n",
      "🧩 临时构建目录: C:\\Users\\xiong\\AppData\\Local\\Temp\\cython_omp_qeqyn62a\n",
      "📐 prange 调度: static\n",
      "\n",
      "📄 生成的 Cython 并行代码如下：\n",
      "\n",
      "\n",
      "    # cython: boundscheck=False, wraparound=False, initializedcheck=False, nonecheck=False\n",
      "    # cython: cdivision=True, infer_types=True\n",
      "    from cython.parallel cimport prange, parallel\n",
      "    from openmp cimport omp_get_max_threads, omp_get_thread_num, omp_set_num_threads\n",
      "    from libc.math cimport sqrt, pow, fabs as c_fabs, exp as c_exp, log as c_log, sin as c_sin, cos as c_cos, tanh as c_tanh\n",
      "    cimport cython\n",
      "    import numpy as np\n",
      "    cimport numpy as np\n",
      "\n",
      "\n",
      "    def vector_norm_customret(int n, int num_threads=0):\n",
      "        cdef Py_ssize_t __t, __i, t, tid\n",
      "        cdef double total = 0.0\n",
      "        cdef int PAD = 16\n",
      "    \n",
      "        cdef int T = omp_get_max_threads()\n",
      "        cdef np.ndarray[np.double_t, ndim=1] _locals = np.zeros(T * PAD, dtype=np.float64)\n",
      "        cdef double[:] locals_mv = _locals\n",
      "\n",
      "        cdef Py_ssize_t __start = <Py_ssize_t>(0)\n",
      "        cdef Py_ssize_t __stop  = <Py_ssize_t>(n)\n",
      "        cdef Py_ssize_t __step  = <Py_ssize_t>(1)\n",
      "        cdef Py_ssize_t __len\n",
      "        if __step > 0:\n",
      "            if __stop <= __start:\n",
      "                __len = 0\n",
      "            else:\n",
      "                __len = ((__stop - __start) + __step - 1) // __step\n",
      "        else:\n",
      "            if __stop >= __start:\n",
      "                __len = 0\n",
      "            else:\n",
      "                __len = ((__start - __stop) + (-__step) - 1) // (-__step)\n",
      "        if __len == 0:\n",
      "            return (1.0 / (1.0 + sqrt(total)))\n",
      "\n",
      "        with nogil, parallel():\n",
      "            tid = omp_get_thread_num()\n",
      "            for __t in prange(__len, schedule=\"static\"):\n",
      "                __i = __start + __t * __step\n",
      "                locals_mv[tid * PAD] += (((__i) * 0.001) * ((__i) * 0.001))\n",
      "\n",
      "        for t in range(T):\n",
      "            total += locals_mv[t * PAD]\n",
      "        return (1.0 / (1.0 + sqrt(total)))\n",
      "\n",
      "\n",
      "🔧 正在编译…（平台: win32, Python: 3.10.16）\n",
      "⚙️  编译成功。\n",
      "\n",
      "✅ 函数 `vector_norm_customret` 已并行加速并可直接使用！\n",
      "📌 用法示例: result = vector_norm_customret(1000000, num_threads=4)\n",
      "📦 扩展模块位于: c:\\Users\\xiong\\Desktop\\9.4brandnew_ast+openmp+cython\\.cython_openmp_cache\\vector_norm_customret_007a8dac.cp310-win_amd64.pyd\n"
     ]
    }
   ],
   "source": [
    "%%cython_openmp -n vector_norm_customret\n",
    "def vector_norm_customret(n=1000):\n",
    "    total = 0.0\n",
    "    for i in range(n):\n",
    "        total += (i * 0.001) * (i * 0.001)\n",
    "    # 这里不是单纯 sqrt(total)，而是更“随意”的返回表达式\n",
    "    return 1.0 / (1.0 + (total ** 0.5))\n"
   ]
  },
  {
   "cell_type": "code",
   "execution_count": 207,
   "metadata": {},
   "outputs": [
    {
     "name": "stdout",
     "output_type": "stream",
     "text": [
      "ref: 0.010433554636315135\n",
      "opt: 0.010433554636315139\n",
      "equal: True\n",
      "Baseline 平均时间: 0.000452s\n",
      "Optimized 平均时间: 0.000091s\n",
      "加速比: 4.96×\n"
     ]
    }
   ],
   "source": [
    "import math, timeit\n",
    "\n",
    "def baseline_vector_norm_customret(n=1000):\n",
    "    total = 0.0\n",
    "    for i in range(n):\n",
    "        total += (i * 0.001) * (i * 0.001)\n",
    "    return 1.0 / (1.0 + math.sqrt(total))\n",
    "\n",
    "# --- 正确性 ---\n",
    "n = 3000\n",
    "ref = baseline_vector_norm_customret(n)\n",
    "opt = vector_norm_customret(n, num_threads=8)\n",
    "print(\"ref:\", ref)\n",
    "print(\"opt:\", opt)\n",
    "print(\"equal:\", abs(ref - opt) < 1e-12)\n",
    "\n",
    "# --- 性能 ---\n",
    "repeats = 5\n",
    "t_base = timeit.timeit(lambda: baseline_vector_norm_customret(n), number=repeats) / repeats\n",
    "t_opt  = timeit.timeit(lambda: vector_norm_customret(n, num_threads=8), number=repeats) / repeats\n",
    "print(f\"Baseline 平均时间: {t_base:.6f}s\")\n",
    "print(f\"Optimized 平均时间: {t_opt:.6f}s\")\n",
    "print(f\"加速比: {t_base/t_opt:.2f}×\")\n"
   ]
  },
  {
   "cell_type": "code",
   "execution_count": 208,
   "metadata": {},
   "outputs": [
    {
     "name": "stdout",
     "output_type": "stream",
     "text": [
      "🔧 Cython + OpenMP 并行编译器 v2 (magic: %cython_openmp)\n",
      "📌 目标函数名: vector_norm_total\n",
      "🧩 临时构建目录: C:\\Users\\xiong\\AppData\\Local\\Temp\\cython_omp_k8rb1e03\n",
      "📐 prange 调度: static\n",
      "\n",
      "📄 生成的 Cython 并行代码如下：\n",
      "\n",
      "\n",
      "    # cython: boundscheck=False, wraparound=False, initializedcheck=False, nonecheck=False\n",
      "    # cython: cdivision=True, infer_types=True\n",
      "    from cython.parallel cimport prange, parallel\n",
      "    from openmp cimport omp_get_max_threads, omp_get_thread_num, omp_set_num_threads\n",
      "    from libc.math cimport sqrt, pow, fabs as c_fabs, exp as c_exp, log as c_log, sin as c_sin, cos as c_cos, tanh as c_tanh\n",
      "    cimport cython\n",
      "    import numpy as np\n",
      "    cimport numpy as np\n",
      "\n",
      "\n",
      "    def vector_norm_total(int n, double scale, int num_threads=0):\n",
      "        cdef Py_ssize_t __t, __i, t, tid\n",
      "        cdef double total = 0.0\n",
      "        cdef int PAD = 16\n",
      "    \n",
      "        cdef int T = omp_get_max_threads()\n",
      "        cdef np.ndarray[np.double_t, ndim=1] _locals = np.zeros(T * PAD, dtype=np.float64)\n",
      "        cdef double[:] locals_mv = _locals\n",
      "\n",
      "        cdef Py_ssize_t __start = <Py_ssize_t>(0)\n",
      "        cdef Py_ssize_t __stop  = <Py_ssize_t>(n)\n",
      "        cdef Py_ssize_t __step  = <Py_ssize_t>(1)\n",
      "        cdef Py_ssize_t __len\n",
      "        if __step > 0:\n",
      "            if __stop <= __start:\n",
      "                __len = 0\n",
      "            else:\n",
      "                __len = ((__stop - __start) + __step - 1) // __step\n",
      "        else:\n",
      "            if __stop >= __start:\n",
      "                __len = 0\n",
      "            else:\n",
      "                __len = ((__start - __stop) + (-__step) - 1) // (-__step)\n",
      "        if __len == 0:\n",
      "            return (sqrt(total) * scale)\n",
      "\n",
      "        with nogil, parallel():\n",
      "            tid = omp_get_thread_num()\n",
      "            for __t in prange(__len, schedule=\"static\"):\n",
      "                __i = __start + __t * __step\n",
      "                locals_mv[tid * PAD] += (((__i) * 0.001) * ((__i) * 0.001))\n",
      "\n",
      "        for t in range(T):\n",
      "            total += locals_mv[t * PAD]\n",
      "        return (sqrt(total) * scale)\n",
      "\n",
      "\n",
      "🔧 正在编译…（平台: win32, Python: 3.10.16）\n",
      "⚙️  编译成功。\n",
      "\n",
      "✅ 函数 `vector_norm_total` 已并行加速并可直接使用！\n",
      "📌 用法示例: result = vector_norm_total(1000000, num_threads=4)\n",
      "📦 扩展模块位于: c:\\Users\\xiong\\Desktop\\9.4brandnew_ast+openmp+cython\\.cython_openmp_cache\\vector_norm_total_24b99a2e.cp310-win_amd64.pyd\n"
     ]
    }
   ],
   "source": [
    "%%cython_openmp -n vector_norm_total\n",
    "def vector_norm_total(n=1000, scale=1.5):\n",
    "    total = 0.0\n",
    "    for i in range(n):\n",
    "        total += (i * 0.001) * (i * 0.001)\n",
    "    # return 里不只是 sqrt(total)，还引入了额外参数 scale\n",
    "    return (total ** 0.5) * scale\n"
   ]
  },
  {
   "cell_type": "code",
   "execution_count": 209,
   "metadata": {},
   "outputs": [],
   "source": [
    "import math\n",
    "\n",
    "def baseline_vector_norm_total(n=1000, scale=1.5):\n",
    "    total = 0.0\n",
    "    for i in range(n):\n",
    "        total += (i * 0.001) * (i * 0.001)\n",
    "    return math.sqrt(total) * scale\n"
   ]
  },
  {
   "cell_type": "code",
   "execution_count": 210,
   "metadata": {},
   "outputs": [
    {
     "name": "stdout",
     "output_type": "stream",
     "text": [
      "ref: 408.18705270990694\n",
      "opt: 408.18705270990665\n",
      "equal: True\n",
      "Baseline 平均时间: 0.000665s\n",
      "Optimized 平均时间: 0.000064s\n",
      "加速比: 10.33×\n"
     ]
    }
   ],
   "source": [
    "import timeit\n",
    "\n",
    "n = 5000\n",
    "scale = 2.0\n",
    "\n",
    "ref = baseline_vector_norm_total(n, scale)\n",
    "opt = vector_norm_total(n, scale, num_threads=8)\n",
    "print(\"ref:\", ref)\n",
    "print(\"opt:\", opt)\n",
    "print(\"equal:\", abs(ref - opt) < 1e-12)\n",
    "\n",
    "repeats = 5\n",
    "t_base = timeit.timeit(lambda: baseline_vector_norm_total(n, scale), number=repeats) / repeats\n",
    "t_opt  = timeit.timeit(lambda: vector_norm_total(n, scale, num_threads=8), number=repeats) / repeats\n",
    "print(f\"Baseline 平均时间: {t_base:.6f}s\")\n",
    "print(f\"Optimized 平均时间: {t_opt:.6f}s\")\n",
    "print(f\"加速比: {t_base/t_opt:.2f}×\")\n"
   ]
  },
  {
   "cell_type": "code",
   "execution_count": 211,
   "metadata": {},
   "outputs": [
    {
     "name": "stdout",
     "output_type": "stream",
     "text": [
      "🔧 Cython + OpenMP 并行编译器 v2 (magic: %cython_openmp)\n",
      "📌 目标函数名: reduce_with_alpha\n",
      "🧩 临时构建目录: C:\\Users\\xiong\\AppData\\Local\\Temp\\cython_omp_ox2_432j\n",
      "📐 prange 调度: static\n",
      "\n",
      "📄 生成的 Cython 并行代码如下：\n",
      "\n",
      "\n",
      "    # cython: boundscheck=False, wraparound=False, initializedcheck=False, nonecheck=False\n",
      "    # cython: cdivision=True, infer_types=True\n",
      "    from cython.parallel cimport prange, parallel\n",
      "    from openmp cimport omp_get_max_threads, omp_get_thread_num, omp_set_num_threads\n",
      "    from libc.math cimport sqrt, pow, fabs as c_fabs, exp as c_exp, log as c_log, sin as c_sin, cos as c_cos, tanh as c_tanh\n",
      "    cimport cython\n",
      "    import numpy as np\n",
      "    cimport numpy as np\n",
      "\n",
      "\n",
      "    def reduce_with_alpha(int n, double alpha, int num_threads=0):\n",
      "        cdef Py_ssize_t __t, __i, t, tid\n",
      "        cdef double s = 0.0\n",
      "        cdef int PAD = 16\n",
      "    \n",
      "        cdef int T = omp_get_max_threads()\n",
      "        cdef np.ndarray[np.double_t, ndim=1] _locals = np.zeros(T * PAD, dtype=np.float64)\n",
      "        cdef double[:] locals_mv = _locals\n",
      "\n",
      "        cdef Py_ssize_t __start = <Py_ssize_t>(0)\n",
      "        cdef Py_ssize_t __stop  = <Py_ssize_t>(n)\n",
      "        cdef Py_ssize_t __step  = <Py_ssize_t>(1)\n",
      "        cdef Py_ssize_t __len\n",
      "        if __step > 0:\n",
      "            if __stop <= __start:\n",
      "                __len = 0\n",
      "            else:\n",
      "                __len = ((__stop - __start) + __step - 1) // __step\n",
      "        else:\n",
      "            if __stop >= __start:\n",
      "                __len = 0\n",
      "            else:\n",
      "                __len = ((__start - __stop) + (-__step) - 1) // (-__step)\n",
      "        if __len == 0:\n",
      "            return sqrt((s / (n + alpha)))\n",
      "\n",
      "        with nogil, parallel():\n",
      "            tid = omp_get_thread_num()\n",
      "            for __t in prange(__len, schedule=\"static\"):\n",
      "                __i = __start + __t * __step\n",
      "                locals_mv[tid * PAD] += ((__i) * 0.001)\n",
      "\n",
      "        for t in range(T):\n",
      "            s += locals_mv[t * PAD]\n",
      "        return sqrt((s / (n + alpha)))\n",
      "\n",
      "\n",
      "🔧 正在编译…（平台: win32, Python: 3.10.16）\n",
      "⚙️  编译成功。\n",
      "\n",
      "✅ 函数 `reduce_with_alpha` 已并行加速并可直接使用！\n",
      "📌 用法示例: result = reduce_with_alpha(1000000, num_threads=4)\n",
      "📦 扩展模块位于: c:\\Users\\xiong\\Desktop\\9.4brandnew_ast+openmp+cython\\.cython_openmp_cache\\reduce_with_alpha_89994f0a.cp310-win_amd64.pyd\n"
     ]
    }
   ],
   "source": [
    "%%cython_openmp -n reduce_with_alpha\n",
    "import numpy as np\n",
    "\n",
    "def reduce_with_alpha(n=1000):\n",
    "    s = 0.0\n",
    "    for i in range(n):\n",
    "        s += i * 0.001\n",
    "    # return 表达式里引入额外标量 alpha\n",
    "    return np.sqrt(s / (n + alpha))\n"
   ]
  },
  {
   "cell_type": "code",
   "execution_count": 212,
   "metadata": {},
   "outputs": [
    {
     "name": "stdout",
     "output_type": "stream",
     "text": [
      "baseline: 0.9988763339980643\n",
      "cython_omp: 0.9988763339980643\n",
      "差值: 0.0\n"
     ]
    }
   ],
   "source": [
    "import math\n",
    "\n",
    "# baseline 参考实现\n",
    "def baseline(n, alpha):\n",
    "    s = 0.0\n",
    "    for i in range(n):\n",
    "        s += i * 0.001\n",
    "    return math.sqrt(s / (n + alpha))\n",
    "\n",
    "# 测试\n",
    "n = 2000\n",
    "alpha = 3.5\n",
    "\n",
    "ref = baseline(n, alpha)\n",
    "opt = reduce_with_alpha(n, alpha, num_threads=4)  # 注意：alpha 已经自动出现在签名里\n",
    "print(\"baseline:\", ref)\n",
    "print(\"cython_omp:\", opt)\n",
    "print(\"差值:\", abs(ref - opt))\n"
   ]
  },
  {
   "cell_type": "markdown",
   "metadata": {},
   "source": []
  },
  {
   "cell_type": "code",
   "execution_count": 157,
   "metadata": {},
   "outputs": [],
   "source": [
    "%reload_ext cython_openmp"
   ]
  },
  {
   "cell_type": "code",
   "execution_count": 213,
   "metadata": {},
   "outputs": [
    {
     "name": "stdout",
     "output_type": "stream",
     "text": [
      "🔧 Cython + OpenMP 并行编译器 v2 (magic: %cython_openmp)\n",
      "📌 目标函数名: range_fullform_sum\n",
      "🧩 临时构建目录: C:\\Users\\xiong\\AppData\\Local\\Temp\\cython_omp_3q3ymlqe\n",
      "📐 prange 调度: static\n",
      "\n",
      "📄 生成的 Cython 并行代码如下：\n",
      "\n",
      "\n",
      "    # cython: boundscheck=False, wraparound=False, initializedcheck=False, nonecheck=False\n",
      "    # cython: cdivision=True, infer_types=True\n",
      "    from cython.parallel cimport prange, parallel\n",
      "    from openmp cimport omp_get_max_threads, omp_get_thread_num, omp_set_num_threads\n",
      "    from libc.math cimport sqrt, pow, fabs as c_fabs, exp as c_exp, log as c_log, sin as c_sin, cos as c_cos, tanh as c_tanh\n",
      "    cimport cython\n",
      "    import numpy as np\n",
      "    cimport numpy as np\n",
      "\n",
      "\n",
      "    def range_fullform_sum(int n, int num_threads=0):\n",
      "        cdef Py_ssize_t __t, __i, t, tid\n",
      "        cdef double result = 0.0\n",
      "        cdef int PAD = 16\n",
      "    \n",
      "        cdef int T = omp_get_max_threads()\n",
      "        cdef np.ndarray[np.double_t, ndim=1] _locals = np.zeros(T * PAD, dtype=np.float64)\n",
      "        cdef double[:] locals_mv = _locals\n",
      "\n",
      "        cdef Py_ssize_t __start = <Py_ssize_t>(1)\n",
      "        cdef Py_ssize_t __stop  = <Py_ssize_t>(2 * n)\n",
      "        cdef Py_ssize_t __step  = <Py_ssize_t>(2)\n",
      "        cdef Py_ssize_t __len\n",
      "        if __step > 0:\n",
      "            if __stop <= __start:\n",
      "                __len = 0\n",
      "            else:\n",
      "                __len = ((__stop - __start) + __step - 1) // __step\n",
      "        else:\n",
      "            if __stop >= __start:\n",
      "                __len = 0\n",
      "            else:\n",
      "                __len = ((__start - __stop) + (-__step) - 1) // (-__step)\n",
      "        if __len == 0:\n",
      "            return result\n",
      "\n",
      "        with nogil, parallel():\n",
      "            tid = omp_get_thread_num()\n",
      "            for __t in prange(__len, schedule=\"static\"):\n",
      "                __i = __start + __t * __step\n",
      "                locals_mv[tid * PAD] += ((__i) * 0.1)\n",
      "\n",
      "        for t in range(T):\n",
      "            result += locals_mv[t * PAD]\n",
      "        return result\n",
      "\n",
      "\n",
      "🔧 正在编译…（平台: win32, Python: 3.10.16）\n",
      "⚙️  编译成功。\n",
      "\n",
      "✅ 函数 `range_fullform_sum` 已并行加速并可直接使用！\n",
      "📌 用法示例: result = range_fullform_sum(1000000, num_threads=4)\n",
      "📦 扩展模块位于: c:\\Users\\xiong\\Desktop\\9.4brandnew_ast+openmp+cython\\.cython_openmp_cache\\range_fullform_sum_34be22fa.cp310-win_amd64.pyd\n"
     ]
    }
   ],
   "source": [
    "%%cython_openmp -n range_fullform_sum\n",
    "import numpy as np\n",
    "\n",
    "def range_fullform_sum(n=10):\n",
    "    result = 0.0\n",
    "    # 使用三参数 range(start, stop, step)\n",
    "    for i in range(1, 2*n, 2):   # i = 1,3,5,...,2n-1\n",
    "        result += i * 0.1\n",
    "    return result\n"
   ]
  },
  {
   "cell_type": "code",
   "execution_count": 214,
   "metadata": {},
   "outputs": [],
   "source": [
    "import math\n",
    "import timeit\n",
    "import numpy as np\n",
    "\n",
    "# 纯 Python 版本（基线）\n",
    "def range_fullform_sum_py(n=10):\n",
    "    result = 0.0\n",
    "    for i in range(1, 2*n, 2):   # 1,3,5,..., 2n-1   共 n 项\n",
    "        result += i * 0.1\n",
    "    return result\n"
   ]
  },
  {
   "cell_type": "code",
   "execution_count": 215,
   "metadata": {},
   "outputs": [
    {
     "name": "stdout",
     "output_type": "stream",
     "text": [
      "n=    1 | 与Python一致: True  | 与解析公式一致: True  | 值=0.100000000000\n",
      "n=   10 | 与Python一致: True  | 与解析公式一致: True  | 值=10.000000000000\n",
      "n=  100 | 与Python一致: True  | 与解析公式一致: True  | 值=1000.000000000000\n",
      "n= 1000 | 与Python一致: False | 与解析公式一致: True  | 值=100000.000000000000\n",
      "n= 1234 | 与Python一致: True  | 与解析公式一致: True  | 值=152275.600000000006\n"
     ]
    }
   ],
   "source": [
    "# 随机几个 n + 解析公式一起校验\n",
    "for n in [1, 10, 100, 1000, 1234]:\n",
    "    ref_py = range_fullform_sum_py(n)\n",
    "    ref_formula = 0.1 * n * n          # 和(1+3+...+2n-1)=n^2\n",
    "    opt = range_fullform_sum(n, num_threads=4)\n",
    "\n",
    "    ok_py = abs(ref_py - opt) < 1e-12\n",
    "    ok_formula = abs(ref_formula - opt) < 1e-12\n",
    "    print(f\"n={n:5d} | 与Python一致: {ok_py!s:5s} | 与解析公式一致: {ok_formula!s:5s} | 值={opt:.12f}\")\n"
   ]
  },
  {
   "cell_type": "code",
   "execution_count": 216,
   "metadata": {},
   "outputs": [
    {
     "name": "stdout",
     "output_type": "stream",
     "text": [
      "n=    1 | 与Python一致: True | 与解析公式一致: True | 值=0.100000000000\n",
      "n=   10 | 与Python一致: True | 与解析公式一致: True | 值=10.000000000000\n",
      "n=  100 | 与Python一致: True | 与解析公式一致: True | 值=1000.000000000000\n",
      "n= 1234 | 与Python一致: True | 与解析公式一致: True | 值=152275.600000000006\n",
      "\n",
      "=== 基准结果 ===\n",
      "N = 5,000,000, repeats = 3, threads = 4\n",
      "Baseline 平均时间: 0.280990s\n",
      "Optimized 平均时间: 0.001950s\n",
      "加速比: 144.08×\n"
     ]
    }
   ],
   "source": [
    "import timeit\n",
    "import math\n",
    "\n",
    "# 原始 Python 版本（基准）\n",
    "def baseline_range_fullform_sum(n=10):\n",
    "    result = 0.0\n",
    "    for i in range(1, 2*n, 2):   # 1,3,5,...,2n-1  共 n 次\n",
    "        result += i * 0.1\n",
    "    return result\n",
    "\n",
    "# ---- 正确性：与 Python/解析公式一致性 ----\n",
    "def expected_by_formula(n):\n",
    "    # 1+3+...+(2n-1) = n^2\n",
    "    return 0.1 * (n**2)\n",
    "\n",
    "for n in [1, 10, 100, 1234]:\n",
    "    py = baseline_range_fullform_sum(n)\n",
    "    cy = range_fullform_sum(n, num_threads=4)   # 如需改线程数，改这里\n",
    "    fx = expected_by_formula(n)\n",
    "    print(f\"n={n:5d} | 与Python一致: {abs(py-cy) < 1e-12} | 与解析公式一致: {abs(cy-fx) < 1e-12} | 值={cy:.12f}\")\n",
    "\n",
    "# ---- 计时与加速比 ----\n",
    "N = 5_000_000    # 规模（可根据机器性能调整，比如 1_000_000 / 10_000_000）\n",
    "repeats = 3      # 重复次数\n",
    "threads = 4      # OpenMP 线程数（根据 CPU 修改）\n",
    "\n",
    "t_base = timeit.timeit(lambda: baseline_range_fullform_sum(N), number=repeats) / repeats\n",
    "t_opt  = timeit.timeit(lambda: range_fullform_sum(N, num_threads=threads), number=repeats) / repeats\n",
    "speedup = t_base / t_opt\n",
    "\n",
    "print(\"\\n=== 基准结果 ===\")\n",
    "print(f\"N = {N:,}, repeats = {repeats}, threads = {threads}\")\n",
    "print(f\"Baseline 平均时间: {t_base:.6f}s\")\n",
    "print(f\"Optimized 平均时间: {t_opt:.6f}s\")\n",
    "print(f\"加速比: {speedup:.2f}×\")\n"
   ]
  },
  {
   "cell_type": "markdown",
   "metadata": {},
   "source": []
  },
  {
   "cell_type": "code",
   "execution_count": 217,
   "metadata": {},
   "outputs": [
    {
     "name": "stdout",
     "output_type": "stream",
     "text": [
      "🔧 Cython + OpenMP 并行编译器 v2 (magic: %cython_openmp)\n",
      "📌 目标函数名: nested_fullform_sum\n",
      "🧩 临时构建目录: C:\\Users\\xiong\\AppData\\Local\\Temp\\cython_omp_g8mq_wns\n",
      "📐 prange 调度: static\n",
      "\n",
      "📄 生成的 Cython 并行代码如下：\n",
      "\n",
      "\n",
      "    # cython: boundscheck=False, wraparound=False, initializedcheck=False, nonecheck=False\n",
      "    # cython: cdivision=True, infer_types=True\n",
      "    from cython.parallel cimport prange, parallel\n",
      "    from openmp cimport omp_get_max_threads, omp_get_thread_num, omp_set_num_threads\n",
      "    from libc.math cimport sqrt, pow, fabs as c_fabs, exp as c_exp, log as c_log, sin as c_sin, cos as c_cos, tanh as c_tanh\n",
      "    cimport cython\n",
      "    import numpy as np\n",
      "    cimport numpy as np\n",
      "\n",
      "\n",
      "    def nested_fullform_sum(int n, int num_threads=0):\n",
      "        cdef Py_ssize_t i, j, __t, __i, t, tid\n",
      "        cdef double result = 0.0\n",
      "        cdef int PAD = 16\n",
      "    \n",
      "        cdef int T = omp_get_max_threads()\n",
      "        cdef np.ndarray[np.double_t, ndim=1] _locals = np.zeros(T * PAD, dtype=np.float64)\n",
      "        cdef double[:] locals_mv = _locals\n",
      "\n",
      "        cdef Py_ssize_t __start = <Py_ssize_t>(1)\n",
      "        cdef Py_ssize_t __stop  = <Py_ssize_t>(2 * n)\n",
      "        cdef Py_ssize_t __step  = <Py_ssize_t>(2)\n",
      "        cdef Py_ssize_t __len\n",
      "        if __step > 0:\n",
      "            if __stop <= __start:\n",
      "                __len = 0\n",
      "            else:\n",
      "                __len = ((__stop - __start) + __step - 1) // __step\n",
      "        else:\n",
      "            if __stop >= __start:\n",
      "                __len = 0\n",
      "            else:\n",
      "                __len = ((__start - __stop) + (-__step) - 1) // (-__step)\n",
      "        if __len == 0:\n",
      "            return result\n",
      "\n",
      "        with nogil, parallel():\n",
      "            tid = omp_get_thread_num()\n",
      "            for __t in prange(__len, schedule=\"static\"):\n",
      "                __i = __start + __t * __step\n",
      "                for j in range(n):\n",
      "                    locals_mv[tid * PAD] += (((__i) + j) * 0.01)\n",
      "        for t in range(T):\n",
      "            result += locals_mv[t * PAD]\n",
      "        return result\n",
      "\n",
      "\n",
      "🔧 正在编译…（平台: win32, Python: 3.10.16）\n",
      "⚙️  编译成功。\n",
      "\n",
      "✅ 函数 `nested_fullform_sum` 已并行加速并可直接使用！\n",
      "📌 用法示例: result = nested_fullform_sum(1000000, num_threads=4)\n",
      "📦 扩展模块位于: c:\\Users\\xiong\\Desktop\\9.4brandnew_ast+openmp+cython\\.cython_openmp_cache\\nested_fullform_sum_2dd74618.cp310-win_amd64.pyd\n"
     ]
    }
   ],
   "source": [
    "%%cython_openmp -n nested_fullform_sum\n",
    "import numpy as np\n",
    "\n",
    "def nested_fullform_sum(n=100):\n",
    "    result = 0.0\n",
    "    for i in range(1, 2*n, 2):   # 外层三参 range\n",
    "        for j in range(n):       # 内层单参 range\n",
    "            result += (i + j) * 0.01\n",
    "    return result\n",
    "\n"
   ]
  },
  {
   "cell_type": "code",
   "execution_count": 218,
   "metadata": {},
   "outputs": [
    {
     "name": "stdout",
     "output_type": "stream",
     "text": [
      "n=200, threads=8\n",
      "  py: 119800.000000000000   t=2.52 ms\n",
      "  cy: 119800.000000000000   t=0.02 ms\n",
      "  fm: 119800.000000000000\n",
      "  abs(cy-py)=0.000e+00, abs(cy-fm)=0.000e+00\n",
      "  speedup(py/cy) ≈ 154.58×\n"
     ]
    }
   ],
   "source": [
    "import time\n",
    "import numpy as np\n",
    "\n",
    "# Python 参考版\n",
    "def nested_fullform_sum_py(n=100):\n",
    "    result = 0.0\n",
    "    for i in range(1, 2*n, 2):\n",
    "        for j in range(n):\n",
    "            result += (i + j) * 0.01\n",
    "    return result\n",
    "\n",
    "# 闭式公式（“金标准”）\n",
    "def nested_fullform_sum_formula(n):\n",
    "    return 0.005 * (3*n**3 - n**2)\n",
    "\n",
    "def bench(n=200, num_threads=8, repeat=3):\n",
    "    # 预热\n",
    "    nested_fullform_sum(n, num_threads=num_threads)\n",
    "    nested_fullform_sum_py(100)\n",
    "\n",
    "    # 计时：Python\n",
    "    best_py = 1e9\n",
    "    for _ in range(repeat):\n",
    "        t0 = time.perf_counter()\n",
    "        rp = nested_fullform_sum_py(n)\n",
    "        best_py = min(best_py, time.perf_counter() - t0)\n",
    "\n",
    "    # 计时：Cython+OpenMP\n",
    "    best_cy = 1e9\n",
    "    for _ in range(repeat):\n",
    "        t0 = time.perf_counter()\n",
    "        rc = nested_fullform_sum(n, num_threads=num_threads)\n",
    "        best_cy = min(best_cy, time.perf_counter() - t0)\n",
    "\n",
    "    rf = nested_fullform_sum_formula(n)\n",
    "\n",
    "    print(f\"n={n}, threads={num_threads}\")\n",
    "    print(f\"  py: {rp:.12f}   t={best_py*1e3:.2f} ms\")\n",
    "    print(f\"  cy: {rc:.12f}   t={best_cy*1e3:.2f} ms\")\n",
    "    print(f\"  fm: {rf:.12f}\")\n",
    "    print(f\"  abs(cy-py)={abs(rc-rp):.3e}, abs(cy-fm)={abs(rc-rf):.3e}\")\n",
    "    print(f\"  speedup(py/cy) ≈ {best_py / best_cy:.2f}×\")\n",
    "\n",
    "# 跑一下\n",
    "bench(n=200, num_threads=8, repeat=5)\n"
   ]
  }
 ],
 "metadata": {
  "kernelspec": {
   "display_name": "cython_env",
   "language": "python",
   "name": "python3"
  },
  "language_info": {
   "codemirror_mode": {
    "name": "ipython",
    "version": 3
   },
   "file_extension": ".py",
   "mimetype": "text/x-python",
   "name": "python",
   "nbconvert_exporter": "python",
   "pygments_lexer": "ipython3",
   "version": "3.10.16"
  }
 },
 "nbformat": 4,
 "nbformat_minor": 2
}
